{
  "nbformat": 4,
  "nbformat_minor": 0,
  "metadata": {
    "colab": {
      "name": "Challenge3_Kelompok1.ipynb",
      "provenance": []
    },
    "kernelspec": {
      "name": "python3",
      "display_name": "Python 3"
    }
  },
  "cells": [
    {
      "cell_type": "markdown",
      "metadata": {
        "id": "V0bkO1MSScbf"
      },
      "source": [
        "**Kelompok 1**\n",
        "---\n",
        "*   Alifia Listu Samatha\n",
        "*   Anindya Widi\n",
        "*   Agung Besti\n"
      ]
    },
    {
      "cell_type": "markdown",
      "metadata": {
        "id": "c60-ieiESWWf"
      },
      "source": [
        "# **Import Data**"
      ]
    },
    {
      "cell_type": "code",
      "metadata": {
        "id": "fHDkXICPQPlg"
      },
      "source": [
        "import pandas as pd\n",
        "import numpy as np\n",
        "import matplotlib.pyplot as plt"
      ],
      "execution_count": 225,
      "outputs": []
    },
    {
      "cell_type": "code",
      "metadata": {
        "id": "zOiMI4CcAstd",
        "outputId": "bee89efe-735c-443a-985a-4e0425fa9213",
        "colab": {
          "base_uri": "https://localhost:8080/",
          "height": 195
        }
      },
      "source": [
        "df = pd.read_csv('/content/drive/My Drive/OnlineRetail.csv', encoding= 'unicode_escape')\n",
        "df.head()"
      ],
      "execution_count": 226,
      "outputs": [
        {
          "output_type": "execute_result",
          "data": {
            "text/html": [
              "<div>\n",
              "<style scoped>\n",
              "    .dataframe tbody tr th:only-of-type {\n",
              "        vertical-align: middle;\n",
              "    }\n",
              "\n",
              "    .dataframe tbody tr th {\n",
              "        vertical-align: top;\n",
              "    }\n",
              "\n",
              "    .dataframe thead th {\n",
              "        text-align: right;\n",
              "    }\n",
              "</style>\n",
              "<table border=\"1\" class=\"dataframe\">\n",
              "  <thead>\n",
              "    <tr style=\"text-align: right;\">\n",
              "      <th></th>\n",
              "      <th>InvoiceNo</th>\n",
              "      <th>StockCode</th>\n",
              "      <th>Description</th>\n",
              "      <th>Quantity</th>\n",
              "      <th>InvoiceDate</th>\n",
              "      <th>UnitPrice</th>\n",
              "      <th>CustomerID</th>\n",
              "      <th>Country</th>\n",
              "    </tr>\n",
              "  </thead>\n",
              "  <tbody>\n",
              "    <tr>\n",
              "      <th>0</th>\n",
              "      <td>536365</td>\n",
              "      <td>85123A</td>\n",
              "      <td>WHITE HANGING HEART T-LIGHT HOLDER</td>\n",
              "      <td>6</td>\n",
              "      <td>12/1/2010 8:26</td>\n",
              "      <td>2.55</td>\n",
              "      <td>17850.0</td>\n",
              "      <td>United Kingdom</td>\n",
              "    </tr>\n",
              "    <tr>\n",
              "      <th>1</th>\n",
              "      <td>536365</td>\n",
              "      <td>71053</td>\n",
              "      <td>WHITE METAL LANTERN</td>\n",
              "      <td>6</td>\n",
              "      <td>12/1/2010 8:26</td>\n",
              "      <td>3.39</td>\n",
              "      <td>17850.0</td>\n",
              "      <td>United Kingdom</td>\n",
              "    </tr>\n",
              "    <tr>\n",
              "      <th>2</th>\n",
              "      <td>536365</td>\n",
              "      <td>84406B</td>\n",
              "      <td>CREAM CUPID HEARTS COAT HANGER</td>\n",
              "      <td>8</td>\n",
              "      <td>12/1/2010 8:26</td>\n",
              "      <td>2.75</td>\n",
              "      <td>17850.0</td>\n",
              "      <td>United Kingdom</td>\n",
              "    </tr>\n",
              "    <tr>\n",
              "      <th>3</th>\n",
              "      <td>536365</td>\n",
              "      <td>84029G</td>\n",
              "      <td>KNITTED UNION FLAG HOT WATER BOTTLE</td>\n",
              "      <td>6</td>\n",
              "      <td>12/1/2010 8:26</td>\n",
              "      <td>3.39</td>\n",
              "      <td>17850.0</td>\n",
              "      <td>United Kingdom</td>\n",
              "    </tr>\n",
              "    <tr>\n",
              "      <th>4</th>\n",
              "      <td>536365</td>\n",
              "      <td>84029E</td>\n",
              "      <td>RED WOOLLY HOTTIE WHITE HEART.</td>\n",
              "      <td>6</td>\n",
              "      <td>12/1/2010 8:26</td>\n",
              "      <td>3.39</td>\n",
              "      <td>17850.0</td>\n",
              "      <td>United Kingdom</td>\n",
              "    </tr>\n",
              "  </tbody>\n",
              "</table>\n",
              "</div>"
            ],
            "text/plain": [
              "  InvoiceNo StockCode  ... CustomerID         Country\n",
              "0    536365    85123A  ...    17850.0  United Kingdom\n",
              "1    536365     71053  ...    17850.0  United Kingdom\n",
              "2    536365    84406B  ...    17850.0  United Kingdom\n",
              "3    536365    84029G  ...    17850.0  United Kingdom\n",
              "4    536365    84029E  ...    17850.0  United Kingdom\n",
              "\n",
              "[5 rows x 8 columns]"
            ]
          },
          "metadata": {
            "tags": []
          },
          "execution_count": 226
        }
      ]
    },
    {
      "cell_type": "markdown",
      "metadata": {
        "id": "eF_eT7V6yPNu"
      },
      "source": [
        "# **Data Understanding**"
      ]
    },
    {
      "cell_type": "code",
      "metadata": {
        "id": "96a8U05qxvui",
        "outputId": "fd513179-9226-46c6-f24a-a21bd347371b",
        "colab": {
          "base_uri": "https://localhost:8080/",
          "height": 418
        }
      },
      "source": [
        "# 1) Data Understanding\n",
        "def summary(df, pred=None):\n",
        "  obs = df.shape[0]\n",
        "  types = df.dtypes\n",
        "  counts = df.apply(lambda x: x.count())\n",
        "  min = df.min()\n",
        "  uniques = df.apply(lambda x: x.unique().shape[0])\n",
        "  nulls = df.apply(lambda x: x.isnull().sum())\n",
        "  print('Data shape:', df.shape)\n",
        "\n",
        "  if pred is None:\n",
        "        cols = ['types', 'counts', 'uniques', 'nulls', 'min']\n",
        "        str = pd.concat([types, counts, uniques, nulls, min], axis = 1, sort=True)\n",
        "\n",
        "  str.columns = cols\n",
        "  dtypes = str.types.value_counts()\n",
        "  print('___________________________\\nData types:')\n",
        "  print(str.types.value_counts())\n",
        "  print('___________________________')\n",
        "  return str\n",
        "\n",
        "details = summary(df)\n",
        "display(details.sort_values(by='nulls', ascending=False))"
      ],
      "execution_count": 227,
      "outputs": [
        {
          "output_type": "stream",
          "text": [
            "Data shape: (541909, 8)\n",
            "___________________________\n",
            "Data types:\n",
            "object     5\n",
            "float64    2\n",
            "int64      1\n",
            "Name: types, dtype: int64\n",
            "___________________________\n"
          ],
          "name": "stdout"
        },
        {
          "output_type": "display_data",
          "data": {
            "text/html": [
              "<div>\n",
              "<style scoped>\n",
              "    .dataframe tbody tr th:only-of-type {\n",
              "        vertical-align: middle;\n",
              "    }\n",
              "\n",
              "    .dataframe tbody tr th {\n",
              "        vertical-align: top;\n",
              "    }\n",
              "\n",
              "    .dataframe thead th {\n",
              "        text-align: right;\n",
              "    }\n",
              "</style>\n",
              "<table border=\"1\" class=\"dataframe\">\n",
              "  <thead>\n",
              "    <tr style=\"text-align: right;\">\n",
              "      <th></th>\n",
              "      <th>types</th>\n",
              "      <th>counts</th>\n",
              "      <th>uniques</th>\n",
              "      <th>nulls</th>\n",
              "      <th>min</th>\n",
              "    </tr>\n",
              "  </thead>\n",
              "  <tbody>\n",
              "    <tr>\n",
              "      <th>CustomerID</th>\n",
              "      <td>float64</td>\n",
              "      <td>406829</td>\n",
              "      <td>4373</td>\n",
              "      <td>135080</td>\n",
              "      <td>12346</td>\n",
              "    </tr>\n",
              "    <tr>\n",
              "      <th>Description</th>\n",
              "      <td>object</td>\n",
              "      <td>540455</td>\n",
              "      <td>4224</td>\n",
              "      <td>1454</td>\n",
              "      <td>NaN</td>\n",
              "    </tr>\n",
              "    <tr>\n",
              "      <th>Country</th>\n",
              "      <td>object</td>\n",
              "      <td>541909</td>\n",
              "      <td>38</td>\n",
              "      <td>0</td>\n",
              "      <td>Australia</td>\n",
              "    </tr>\n",
              "    <tr>\n",
              "      <th>InvoiceDate</th>\n",
              "      <td>object</td>\n",
              "      <td>541909</td>\n",
              "      <td>23260</td>\n",
              "      <td>0</td>\n",
              "      <td>1/10/2011 10:04</td>\n",
              "    </tr>\n",
              "    <tr>\n",
              "      <th>InvoiceNo</th>\n",
              "      <td>object</td>\n",
              "      <td>541909</td>\n",
              "      <td>25900</td>\n",
              "      <td>0</td>\n",
              "      <td>536365</td>\n",
              "    </tr>\n",
              "    <tr>\n",
              "      <th>Quantity</th>\n",
              "      <td>int64</td>\n",
              "      <td>541909</td>\n",
              "      <td>722</td>\n",
              "      <td>0</td>\n",
              "      <td>-80995</td>\n",
              "    </tr>\n",
              "    <tr>\n",
              "      <th>StockCode</th>\n",
              "      <td>object</td>\n",
              "      <td>541909</td>\n",
              "      <td>4070</td>\n",
              "      <td>0</td>\n",
              "      <td>10002</td>\n",
              "    </tr>\n",
              "    <tr>\n",
              "      <th>UnitPrice</th>\n",
              "      <td>float64</td>\n",
              "      <td>541909</td>\n",
              "      <td>1630</td>\n",
              "      <td>0</td>\n",
              "      <td>-11062.1</td>\n",
              "    </tr>\n",
              "  </tbody>\n",
              "</table>\n",
              "</div>"
            ],
            "text/plain": [
              "               types  counts  uniques   nulls              min\n",
              "CustomerID   float64  406829     4373  135080            12346\n",
              "Description   object  540455     4224    1454              NaN\n",
              "Country       object  541909       38       0        Australia\n",
              "InvoiceDate   object  541909    23260       0  1/10/2011 10:04\n",
              "InvoiceNo     object  541909    25900       0           536365\n",
              "Quantity       int64  541909      722       0           -80995\n",
              "StockCode     object  541909     4070       0            10002\n",
              "UnitPrice    float64  541909     1630       0         -11062.1"
            ]
          },
          "metadata": {
            "tags": []
          }
        }
      ]
    },
    {
      "cell_type": "markdown",
      "metadata": {
        "id": "b-m3JWs4ybmw"
      },
      "source": [
        "Dari tabel summary di atas, terdapat beberapa hal yang perlu ditinjau ulang:\n",
        "\n",
        "1) Null Values\n",
        "Kolom **CustomerID** dan **Description** memiliki null values\n",
        "\n",
        "2) Nilai Negatif\n",
        "**Quantity** dan **UnitPrice** seharusnya memiliki nilai >= 0, tetapi dari summary di atas terdapat nilai negatif untuk dua kolom tersebut"
      ]
    },
    {
      "cell_type": "code",
      "metadata": {
        "id": "hKIZ48agxwBU",
        "outputId": "1046fb6a-ca48-43aa-81ee-00ef8cac4a40",
        "colab": {
          "base_uri": "https://localhost:8080/",
          "height": 284
        }
      },
      "source": [
        "df.describe()"
      ],
      "execution_count": 228,
      "outputs": [
        {
          "output_type": "execute_result",
          "data": {
            "text/html": [
              "<div>\n",
              "<style scoped>\n",
              "    .dataframe tbody tr th:only-of-type {\n",
              "        vertical-align: middle;\n",
              "    }\n",
              "\n",
              "    .dataframe tbody tr th {\n",
              "        vertical-align: top;\n",
              "    }\n",
              "\n",
              "    .dataframe thead th {\n",
              "        text-align: right;\n",
              "    }\n",
              "</style>\n",
              "<table border=\"1\" class=\"dataframe\">\n",
              "  <thead>\n",
              "    <tr style=\"text-align: right;\">\n",
              "      <th></th>\n",
              "      <th>Quantity</th>\n",
              "      <th>UnitPrice</th>\n",
              "      <th>CustomerID</th>\n",
              "    </tr>\n",
              "  </thead>\n",
              "  <tbody>\n",
              "    <tr>\n",
              "      <th>count</th>\n",
              "      <td>541909.000000</td>\n",
              "      <td>541909.000000</td>\n",
              "      <td>406829.000000</td>\n",
              "    </tr>\n",
              "    <tr>\n",
              "      <th>mean</th>\n",
              "      <td>9.552250</td>\n",
              "      <td>4.611114</td>\n",
              "      <td>15287.690570</td>\n",
              "    </tr>\n",
              "    <tr>\n",
              "      <th>std</th>\n",
              "      <td>218.081158</td>\n",
              "      <td>96.759853</td>\n",
              "      <td>1713.600303</td>\n",
              "    </tr>\n",
              "    <tr>\n",
              "      <th>min</th>\n",
              "      <td>-80995.000000</td>\n",
              "      <td>-11062.060000</td>\n",
              "      <td>12346.000000</td>\n",
              "    </tr>\n",
              "    <tr>\n",
              "      <th>25%</th>\n",
              "      <td>1.000000</td>\n",
              "      <td>1.250000</td>\n",
              "      <td>13953.000000</td>\n",
              "    </tr>\n",
              "    <tr>\n",
              "      <th>50%</th>\n",
              "      <td>3.000000</td>\n",
              "      <td>2.080000</td>\n",
              "      <td>15152.000000</td>\n",
              "    </tr>\n",
              "    <tr>\n",
              "      <th>75%</th>\n",
              "      <td>10.000000</td>\n",
              "      <td>4.130000</td>\n",
              "      <td>16791.000000</td>\n",
              "    </tr>\n",
              "    <tr>\n",
              "      <th>max</th>\n",
              "      <td>80995.000000</td>\n",
              "      <td>38970.000000</td>\n",
              "      <td>18287.000000</td>\n",
              "    </tr>\n",
              "  </tbody>\n",
              "</table>\n",
              "</div>"
            ],
            "text/plain": [
              "            Quantity      UnitPrice     CustomerID\n",
              "count  541909.000000  541909.000000  406829.000000\n",
              "mean        9.552250       4.611114   15287.690570\n",
              "std       218.081158      96.759853    1713.600303\n",
              "min    -80995.000000  -11062.060000   12346.000000\n",
              "25%         1.000000       1.250000   13953.000000\n",
              "50%         3.000000       2.080000   15152.000000\n",
              "75%        10.000000       4.130000   16791.000000\n",
              "max     80995.000000   38970.000000   18287.000000"
            ]
          },
          "metadata": {
            "tags": []
          },
          "execution_count": 228
        }
      ]
    },
    {
      "cell_type": "code",
      "metadata": {
        "id": "SWNgUGqSxwQN",
        "outputId": "d5acf3eb-6e57-4f26-cfaa-5e161c629c31",
        "colab": {
          "base_uri": "https://localhost:8080/",
          "height": 50
        }
      },
      "source": [
        "# Cek ada berapa negative values\n",
        "print('% Total Negative Value (Quantity): {:3.2%}'.format(df[(df.Quantity<0)].shape[0]/df.shape[0]))\n",
        "print('% Total Negative Value (Unit Price): {:3.2%}'.format(df[(df.UnitPrice<0)].shape[0]/df.shape[0]))"
      ],
      "execution_count": 229,
      "outputs": [
        {
          "output_type": "stream",
          "text": [
            "% Total Negative Value (Quantity): 1.96%\n",
            "% Total Negative Value (Unit Price): 0.00%\n"
          ],
          "name": "stdout"
        }
      ]
    },
    {
      "cell_type": "code",
      "metadata": {
        "id": "dFssIwsQyfux",
        "outputId": "3347e244-fd5d-46f6-ed49-9833f42de7dd",
        "colab": {
          "base_uri": "https://localhost:8080/",
          "height": 50
        }
      },
      "source": [
        "# Cek ada berapa row bernilai nol (zero)\n",
        "print('% Total Zero Value (Quantity): {:3.2%}'.format(df[(df.Quantity==0)].shape[0]/df.shape[0]))\n",
        "print('% Total Zero Value (Unit Price): {:3.2%}'.format(df[(df.UnitPrice==0)].shape[0]/df.shape[0]))"
      ],
      "execution_count": 230,
      "outputs": [
        {
          "output_type": "stream",
          "text": [
            "% Total Zero Value (Quantity): 0.00%\n",
            "% Total Zero Value (Unit Price): 0.46%\n"
          ],
          "name": "stdout"
        }
      ]
    },
    {
      "cell_type": "markdown",
      "metadata": {
        "id": "GLTglbKay25r"
      },
      "source": [
        "# **Data Cleaning**"
      ]
    },
    {
      "cell_type": "code",
      "metadata": {
        "id": "2gjwOEwKxwb3",
        "outputId": "e6b77a26-193c-455f-d93a-e65135a5f764",
        "colab": {
          "base_uri": "https://localhost:8080/",
          "height": 418
        }
      },
      "source": [
        "# 2) Data Cleaning\n",
        "# Drop CustomerID dengan null value\n",
        "df = df[~(df.CustomerID.isnull())]\n",
        "\n",
        "# Drop value yang bernilai negatif dan/atau return transaction (Unit Price < 0)\n",
        "df = df[~(df.Quantity<0)]\n",
        "df = df[df.UnitPrice>0]\n",
        "\n",
        "# Cek kembali tabel summary\n",
        "details = summary(df)\n",
        "display(details.sort_values(by='uniques', ascending=False))"
      ],
      "execution_count": 231,
      "outputs": [
        {
          "output_type": "stream",
          "text": [
            "Data shape: (397884, 8)\n",
            "___________________________\n",
            "Data types:\n",
            "object     5\n",
            "float64    2\n",
            "int64      1\n",
            "Name: types, dtype: int64\n",
            "___________________________\n"
          ],
          "name": "stdout"
        },
        {
          "output_type": "display_data",
          "data": {
            "text/html": [
              "<div>\n",
              "<style scoped>\n",
              "    .dataframe tbody tr th:only-of-type {\n",
              "        vertical-align: middle;\n",
              "    }\n",
              "\n",
              "    .dataframe tbody tr th {\n",
              "        vertical-align: top;\n",
              "    }\n",
              "\n",
              "    .dataframe thead th {\n",
              "        text-align: right;\n",
              "    }\n",
              "</style>\n",
              "<table border=\"1\" class=\"dataframe\">\n",
              "  <thead>\n",
              "    <tr style=\"text-align: right;\">\n",
              "      <th></th>\n",
              "      <th>types</th>\n",
              "      <th>counts</th>\n",
              "      <th>uniques</th>\n",
              "      <th>nulls</th>\n",
              "      <th>min</th>\n",
              "    </tr>\n",
              "  </thead>\n",
              "  <tbody>\n",
              "    <tr>\n",
              "      <th>InvoiceNo</th>\n",
              "      <td>object</td>\n",
              "      <td>397884</td>\n",
              "      <td>18532</td>\n",
              "      <td>0</td>\n",
              "      <td>536365</td>\n",
              "    </tr>\n",
              "    <tr>\n",
              "      <th>InvoiceDate</th>\n",
              "      <td>object</td>\n",
              "      <td>397884</td>\n",
              "      <td>17282</td>\n",
              "      <td>0</td>\n",
              "      <td>1/10/2011 10:32</td>\n",
              "    </tr>\n",
              "    <tr>\n",
              "      <th>CustomerID</th>\n",
              "      <td>float64</td>\n",
              "      <td>397884</td>\n",
              "      <td>4338</td>\n",
              "      <td>0</td>\n",
              "      <td>12346</td>\n",
              "    </tr>\n",
              "    <tr>\n",
              "      <th>Description</th>\n",
              "      <td>object</td>\n",
              "      <td>397884</td>\n",
              "      <td>3877</td>\n",
              "      <td>0</td>\n",
              "      <td>4 PURPLE FLOCK DINNER CANDLES</td>\n",
              "    </tr>\n",
              "    <tr>\n",
              "      <th>StockCode</th>\n",
              "      <td>object</td>\n",
              "      <td>397884</td>\n",
              "      <td>3665</td>\n",
              "      <td>0</td>\n",
              "      <td>10002</td>\n",
              "    </tr>\n",
              "    <tr>\n",
              "      <th>UnitPrice</th>\n",
              "      <td>float64</td>\n",
              "      <td>397884</td>\n",
              "      <td>440</td>\n",
              "      <td>0</td>\n",
              "      <td>0.001</td>\n",
              "    </tr>\n",
              "    <tr>\n",
              "      <th>Quantity</th>\n",
              "      <td>int64</td>\n",
              "      <td>397884</td>\n",
              "      <td>301</td>\n",
              "      <td>0</td>\n",
              "      <td>1</td>\n",
              "    </tr>\n",
              "    <tr>\n",
              "      <th>Country</th>\n",
              "      <td>object</td>\n",
              "      <td>397884</td>\n",
              "      <td>37</td>\n",
              "      <td>0</td>\n",
              "      <td>Australia</td>\n",
              "    </tr>\n",
              "  </tbody>\n",
              "</table>\n",
              "</div>"
            ],
            "text/plain": [
              "               types  counts  uniques  nulls                             min\n",
              "InvoiceNo     object  397884    18532      0                          536365\n",
              "InvoiceDate   object  397884    17282      0                 1/10/2011 10:32\n",
              "CustomerID   float64  397884     4338      0                           12346\n",
              "Description   object  397884     3877      0   4 PURPLE FLOCK DINNER CANDLES\n",
              "StockCode     object  397884     3665      0                           10002\n",
              "UnitPrice    float64  397884      440      0                           0.001\n",
              "Quantity       int64  397884      301      0                               1\n",
              "Country       object  397884       37      0                       Australia"
            ]
          },
          "metadata": {
            "tags": []
          }
        }
      ]
    },
    {
      "cell_type": "code",
      "metadata": {
        "id": "oz8atD1Ey54H",
        "outputId": "8b633f0c-c493-4214-ab97-35c3873f9a2a",
        "colab": {
          "base_uri": "https://localhost:8080/",
          "height": 229
        }
      },
      "source": [
        "# Masih terdapat nilai unique Description > StockCode (inkonsistensi data)\n",
        "cat_des_df = df.groupby([\"StockCode\",\"Description\"]).count().reset_index()\n",
        "display(cat_des_df.StockCode.value_counts()[cat_des_df.StockCode.value_counts()>1].reset_index().head())\n",
        "df[df['StockCode'] == cat_des_df.StockCode.value_counts()[cat_des_df.StockCode.value_counts()>1]\n",
        "      .reset_index()['index'][4]]['Description'].unique()"
      ],
      "execution_count": 232,
      "outputs": [
        {
          "output_type": "display_data",
          "data": {
            "text/html": [
              "<div>\n",
              "<style scoped>\n",
              "    .dataframe tbody tr th:only-of-type {\n",
              "        vertical-align: middle;\n",
              "    }\n",
              "\n",
              "    .dataframe tbody tr th {\n",
              "        vertical-align: top;\n",
              "    }\n",
              "\n",
              "    .dataframe thead th {\n",
              "        text-align: right;\n",
              "    }\n",
              "</style>\n",
              "<table border=\"1\" class=\"dataframe\">\n",
              "  <thead>\n",
              "    <tr style=\"text-align: right;\">\n",
              "      <th></th>\n",
              "      <th>index</th>\n",
              "      <th>StockCode</th>\n",
              "    </tr>\n",
              "  </thead>\n",
              "  <tbody>\n",
              "    <tr>\n",
              "      <th>0</th>\n",
              "      <td>23236</td>\n",
              "      <td>4</td>\n",
              "    </tr>\n",
              "    <tr>\n",
              "      <th>1</th>\n",
              "      <td>23196</td>\n",
              "      <td>4</td>\n",
              "    </tr>\n",
              "    <tr>\n",
              "      <th>2</th>\n",
              "      <td>23370</td>\n",
              "      <td>3</td>\n",
              "    </tr>\n",
              "    <tr>\n",
              "      <th>3</th>\n",
              "      <td>23244</td>\n",
              "      <td>3</td>\n",
              "    </tr>\n",
              "    <tr>\n",
              "      <th>4</th>\n",
              "      <td>23126</td>\n",
              "      <td>3</td>\n",
              "    </tr>\n",
              "  </tbody>\n",
              "</table>\n",
              "</div>"
            ],
            "text/plain": [
              "   index  StockCode\n",
              "0  23236          4\n",
              "1  23196          4\n",
              "2  23370          3\n",
              "3  23244          3\n",
              "4  23126          3"
            ]
          },
          "metadata": {
            "tags": []
          }
        },
        {
          "output_type": "execute_result",
          "data": {
            "text/plain": [
              "array(['DOLLCRAFT GIRL AMELIE KIT', 'FELTCRAFT GIRL AMELIE KIT',\n",
              "       'DOLLCRAFT GIRL AMELIE'], dtype=object)"
            ]
          },
          "metadata": {
            "tags": []
          },
          "execution_count": 232
        }
      ]
    },
    {
      "cell_type": "code",
      "metadata": {
        "id": "aYZ9Vq5Xy6Hn",
        "outputId": "1af2459c-499f-4368-afba-4bce616d2701",
        "colab": {
          "base_uri": "https://localhost:8080/",
          "height": 134
        }
      },
      "source": [
        "!pip install pandasql"
      ],
      "execution_count": 233,
      "outputs": [
        {
          "output_type": "stream",
          "text": [
            "Requirement already satisfied: pandasql in /usr/local/lib/python3.6/dist-packages (0.7.3)\n",
            "Requirement already satisfied: pandas in /usr/local/lib/python3.6/dist-packages (from pandasql) (1.1.2)\n",
            "Requirement already satisfied: numpy in /usr/local/lib/python3.6/dist-packages (from pandasql) (1.18.5)\n",
            "Requirement already satisfied: sqlalchemy in /usr/local/lib/python3.6/dist-packages (from pandasql) (1.3.19)\n",
            "Requirement already satisfied: pytz>=2017.2 in /usr/local/lib/python3.6/dist-packages (from pandas->pandasql) (2018.9)\n",
            "Requirement already satisfied: python-dateutil>=2.7.3 in /usr/local/lib/python3.6/dist-packages (from pandas->pandasql) (2.8.1)\n",
            "Requirement already satisfied: six>=1.5 in /usr/local/lib/python3.6/dist-packages (from python-dateutil>=2.7.3->pandas->pandasql) (1.15.0)\n"
          ],
          "name": "stdout"
        }
      ]
    },
    {
      "cell_type": "code",
      "metadata": {
        "id": "dib6WN3jzW3w"
      },
      "source": [
        "# Setelah dicek, masih terdapat typo pada jenis item yang sama\n",
        "# Inner Join untuk mengambil data yang sama saja\n",
        "\n",
        "from pandasql import sqldf\n",
        "pysqldf = lambda q: sqldf(q, globals())\n",
        "\n",
        "unique_desc = df[[\"StockCode\", \"Description\"]].groupby(by=[\"StockCode\"]).\\\n",
        "                apply(pd.DataFrame.mode).reset_index(drop=True)\n",
        "q = '''\n",
        "select df.InvoiceNo, df.StockCode, un.Description, df.Quantity, df.InvoiceDate,\n",
        "       df.UnitPrice, df.CustomerID, df.Country\n",
        "from df as df INNER JOIN \n",
        "     unique_desc as un on df.StockCode = un.StockCode\n",
        "'''\n",
        "\n",
        "df = pysqldf(q)"
      ],
      "execution_count": 234,
      "outputs": []
    },
    {
      "cell_type": "code",
      "metadata": {
        "id": "2mYKe-GWzXDL",
        "outputId": "a69ca917-4296-4a84-cdca-aa11e818d8fe",
        "colab": {
          "base_uri": "https://localhost:8080/",
          "height": 452
        }
      },
      "source": [
        "# Convert format to datetime\n",
        "from datetime import datetime\n",
        "df.InvoiceDate = pd.to_datetime(df.InvoiceDate)\n",
        "df.CustomerID = df.CustomerID.astype('Int64')\n",
        "\n",
        "details = summary(df)\n",
        "display(details.sort_values(by='uniques', ascending=False))"
      ],
      "execution_count": 235,
      "outputs": [
        {
          "output_type": "stream",
          "text": [
            "Data shape: (397884, 8)\n",
            "___________________________\n",
            "Data types:\n",
            "object            4\n",
            "int64             1\n",
            "Int64             1\n",
            "datetime64[ns]    1\n",
            "float64           1\n",
            "Name: types, dtype: int64\n",
            "___________________________\n"
          ],
          "name": "stdout"
        },
        {
          "output_type": "display_data",
          "data": {
            "text/html": [
              "<div>\n",
              "<style scoped>\n",
              "    .dataframe tbody tr th:only-of-type {\n",
              "        vertical-align: middle;\n",
              "    }\n",
              "\n",
              "    .dataframe tbody tr th {\n",
              "        vertical-align: top;\n",
              "    }\n",
              "\n",
              "    .dataframe thead th {\n",
              "        text-align: right;\n",
              "    }\n",
              "</style>\n",
              "<table border=\"1\" class=\"dataframe\">\n",
              "  <thead>\n",
              "    <tr style=\"text-align: right;\">\n",
              "      <th></th>\n",
              "      <th>types</th>\n",
              "      <th>counts</th>\n",
              "      <th>uniques</th>\n",
              "      <th>nulls</th>\n",
              "      <th>min</th>\n",
              "    </tr>\n",
              "  </thead>\n",
              "  <tbody>\n",
              "    <tr>\n",
              "      <th>InvoiceNo</th>\n",
              "      <td>object</td>\n",
              "      <td>397884</td>\n",
              "      <td>18532</td>\n",
              "      <td>0</td>\n",
              "      <td>536365</td>\n",
              "    </tr>\n",
              "    <tr>\n",
              "      <th>InvoiceDate</th>\n",
              "      <td>datetime64[ns]</td>\n",
              "      <td>397884</td>\n",
              "      <td>17282</td>\n",
              "      <td>0</td>\n",
              "      <td>2010-12-01 08:26:00</td>\n",
              "    </tr>\n",
              "    <tr>\n",
              "      <th>CustomerID</th>\n",
              "      <td>Int64</td>\n",
              "      <td>397884</td>\n",
              "      <td>4338</td>\n",
              "      <td>0</td>\n",
              "      <td>12346</td>\n",
              "    </tr>\n",
              "    <tr>\n",
              "      <th>StockCode</th>\n",
              "      <td>object</td>\n",
              "      <td>397884</td>\n",
              "      <td>3665</td>\n",
              "      <td>0</td>\n",
              "      <td>10002</td>\n",
              "    </tr>\n",
              "    <tr>\n",
              "      <th>Description</th>\n",
              "      <td>object</td>\n",
              "      <td>397884</td>\n",
              "      <td>3647</td>\n",
              "      <td>0</td>\n",
              "      <td>4 PURPLE FLOCK DINNER CANDLES</td>\n",
              "    </tr>\n",
              "    <tr>\n",
              "      <th>UnitPrice</th>\n",
              "      <td>float64</td>\n",
              "      <td>397884</td>\n",
              "      <td>440</td>\n",
              "      <td>0</td>\n",
              "      <td>0.001</td>\n",
              "    </tr>\n",
              "    <tr>\n",
              "      <th>Quantity</th>\n",
              "      <td>int64</td>\n",
              "      <td>397884</td>\n",
              "      <td>301</td>\n",
              "      <td>0</td>\n",
              "      <td>1</td>\n",
              "    </tr>\n",
              "    <tr>\n",
              "      <th>Country</th>\n",
              "      <td>object</td>\n",
              "      <td>397884</td>\n",
              "      <td>37</td>\n",
              "      <td>0</td>\n",
              "      <td>Australia</td>\n",
              "    </tr>\n",
              "  </tbody>\n",
              "</table>\n",
              "</div>"
            ],
            "text/plain": [
              "                      types  counts  ...  nulls                             min\n",
              "InvoiceNo            object  397884  ...      0                          536365\n",
              "InvoiceDate  datetime64[ns]  397884  ...      0             2010-12-01 08:26:00\n",
              "CustomerID            Int64  397884  ...      0                           12346\n",
              "StockCode            object  397884  ...      0                           10002\n",
              "Description          object  397884  ...      0   4 PURPLE FLOCK DINNER CANDLES\n",
              "UnitPrice           float64  397884  ...      0                           0.001\n",
              "Quantity              int64  397884  ...      0                               1\n",
              "Country              object  397884  ...      0                       Australia\n",
              "\n",
              "[8 rows x 5 columns]"
            ]
          },
          "metadata": {
            "tags": []
          }
        }
      ]
    },
    {
      "cell_type": "code",
      "metadata": {
        "id": "1gPxeHTJzXOA",
        "outputId": "f53aea58-1dba-4114-a732-a8a2bea0c11a",
        "colab": {
          "base_uri": "https://localhost:8080/",
          "height": 34
        }
      },
      "source": [
        "# Cek ada berapa negara\n",
        "df.Country.nunique()"
      ],
      "execution_count": 236,
      "outputs": [
        {
          "output_type": "execute_result",
          "data": {
            "text/plain": [
              "37"
            ]
          },
          "metadata": {
            "tags": []
          },
          "execution_count": 236
        }
      ]
    },
    {
      "cell_type": "code",
      "metadata": {
        "id": "Vt5w64k01UvU",
        "outputId": "176593f5-97d5-45c2-9544-e500fd212058",
        "colab": {
          "base_uri": "https://localhost:8080/",
          "height": 195
        }
      },
      "source": [
        "# Cek jumlah Customer per Country\n",
        "customer_country = df[['Country','CustomerID']].drop_duplicates()\n",
        "cust_group = customer_country.groupby(['Country'])['CustomerID'].aggregate('count').reset_index().sort_values('CustomerID',ascending=False)\n",
        "cust_group.head()"
      ],
      "execution_count": 237,
      "outputs": [
        {
          "output_type": "execute_result",
          "data": {
            "text/html": [
              "<div>\n",
              "<style scoped>\n",
              "    .dataframe tbody tr th:only-of-type {\n",
              "        vertical-align: middle;\n",
              "    }\n",
              "\n",
              "    .dataframe tbody tr th {\n",
              "        vertical-align: top;\n",
              "    }\n",
              "\n",
              "    .dataframe thead th {\n",
              "        text-align: right;\n",
              "    }\n",
              "</style>\n",
              "<table border=\"1\" class=\"dataframe\">\n",
              "  <thead>\n",
              "    <tr style=\"text-align: right;\">\n",
              "      <th></th>\n",
              "      <th>Country</th>\n",
              "      <th>CustomerID</th>\n",
              "    </tr>\n",
              "  </thead>\n",
              "  <tbody>\n",
              "    <tr>\n",
              "      <th>35</th>\n",
              "      <td>United Kingdom</td>\n",
              "      <td>3920</td>\n",
              "    </tr>\n",
              "    <tr>\n",
              "      <th>14</th>\n",
              "      <td>Germany</td>\n",
              "      <td>94</td>\n",
              "    </tr>\n",
              "    <tr>\n",
              "      <th>13</th>\n",
              "      <td>France</td>\n",
              "      <td>87</td>\n",
              "    </tr>\n",
              "    <tr>\n",
              "      <th>30</th>\n",
              "      <td>Spain</td>\n",
              "      <td>30</td>\n",
              "    </tr>\n",
              "    <tr>\n",
              "      <th>3</th>\n",
              "      <td>Belgium</td>\n",
              "      <td>25</td>\n",
              "    </tr>\n",
              "  </tbody>\n",
              "</table>\n",
              "</div>"
            ],
            "text/plain": [
              "           Country  CustomerID\n",
              "35  United Kingdom        3920\n",
              "14         Germany          94\n",
              "13          France          87\n",
              "30           Spain          30\n",
              "3          Belgium          25"
            ]
          },
          "metadata": {
            "tags": []
          },
          "execution_count": 237
        }
      ]
    },
    {
      "cell_type": "code",
      "metadata": {
        "id": "MjD7ZDhM1Utl",
        "outputId": "43c1cebc-8ba4-44de-f8d3-12446d64e6e7",
        "colab": {
          "base_uri": "https://localhost:8080/",
          "height": 195
        }
      },
      "source": [
        "# Insert kolom baru (Total Price)\n",
        "df['TotalPrice'] = df['Quantity']*df['UnitPrice']\n",
        "df.head()"
      ],
      "execution_count": 238,
      "outputs": [
        {
          "output_type": "execute_result",
          "data": {
            "text/html": [
              "<div>\n",
              "<style scoped>\n",
              "    .dataframe tbody tr th:only-of-type {\n",
              "        vertical-align: middle;\n",
              "    }\n",
              "\n",
              "    .dataframe tbody tr th {\n",
              "        vertical-align: top;\n",
              "    }\n",
              "\n",
              "    .dataframe thead th {\n",
              "        text-align: right;\n",
              "    }\n",
              "</style>\n",
              "<table border=\"1\" class=\"dataframe\">\n",
              "  <thead>\n",
              "    <tr style=\"text-align: right;\">\n",
              "      <th></th>\n",
              "      <th>InvoiceNo</th>\n",
              "      <th>StockCode</th>\n",
              "      <th>Description</th>\n",
              "      <th>Quantity</th>\n",
              "      <th>InvoiceDate</th>\n",
              "      <th>UnitPrice</th>\n",
              "      <th>CustomerID</th>\n",
              "      <th>Country</th>\n",
              "      <th>TotalPrice</th>\n",
              "    </tr>\n",
              "  </thead>\n",
              "  <tbody>\n",
              "    <tr>\n",
              "      <th>0</th>\n",
              "      <td>536365</td>\n",
              "      <td>85123A</td>\n",
              "      <td>WHITE HANGING HEART T-LIGHT HOLDER</td>\n",
              "      <td>6</td>\n",
              "      <td>2010-12-01 08:26:00</td>\n",
              "      <td>2.55</td>\n",
              "      <td>17850</td>\n",
              "      <td>United Kingdom</td>\n",
              "      <td>15.30</td>\n",
              "    </tr>\n",
              "    <tr>\n",
              "      <th>1</th>\n",
              "      <td>536365</td>\n",
              "      <td>71053</td>\n",
              "      <td>WHITE METAL LANTERN</td>\n",
              "      <td>6</td>\n",
              "      <td>2010-12-01 08:26:00</td>\n",
              "      <td>3.39</td>\n",
              "      <td>17850</td>\n",
              "      <td>United Kingdom</td>\n",
              "      <td>20.34</td>\n",
              "    </tr>\n",
              "    <tr>\n",
              "      <th>2</th>\n",
              "      <td>536365</td>\n",
              "      <td>84406B</td>\n",
              "      <td>CREAM CUPID HEARTS COAT HANGER</td>\n",
              "      <td>8</td>\n",
              "      <td>2010-12-01 08:26:00</td>\n",
              "      <td>2.75</td>\n",
              "      <td>17850</td>\n",
              "      <td>United Kingdom</td>\n",
              "      <td>22.00</td>\n",
              "    </tr>\n",
              "    <tr>\n",
              "      <th>3</th>\n",
              "      <td>536365</td>\n",
              "      <td>84029G</td>\n",
              "      <td>KNITTED UNION FLAG HOT WATER BOTTLE</td>\n",
              "      <td>6</td>\n",
              "      <td>2010-12-01 08:26:00</td>\n",
              "      <td>3.39</td>\n",
              "      <td>17850</td>\n",
              "      <td>United Kingdom</td>\n",
              "      <td>20.34</td>\n",
              "    </tr>\n",
              "    <tr>\n",
              "      <th>4</th>\n",
              "      <td>536365</td>\n",
              "      <td>84029E</td>\n",
              "      <td>RED WOOLLY HOTTIE WHITE HEART.</td>\n",
              "      <td>6</td>\n",
              "      <td>2010-12-01 08:26:00</td>\n",
              "      <td>3.39</td>\n",
              "      <td>17850</td>\n",
              "      <td>United Kingdom</td>\n",
              "      <td>20.34</td>\n",
              "    </tr>\n",
              "  </tbody>\n",
              "</table>\n",
              "</div>"
            ],
            "text/plain": [
              "  InvoiceNo StockCode  ...         Country  TotalPrice\n",
              "0    536365    85123A  ...  United Kingdom       15.30\n",
              "1    536365     71053  ...  United Kingdom       20.34\n",
              "2    536365    84406B  ...  United Kingdom       22.00\n",
              "3    536365    84029G  ...  United Kingdom       20.34\n",
              "4    536365    84029E  ...  United Kingdom       20.34\n",
              "\n",
              "[5 rows x 9 columns]"
            ]
          },
          "metadata": {
            "tags": []
          },
          "execution_count": 238
        }
      ]
    },
    {
      "cell_type": "code",
      "metadata": {
        "id": "9PxJ3VMB1Uq6",
        "outputId": "96bd2479-25e2-44ce-96ba-8e6f586afe00",
        "colab": {
          "base_uri": "https://localhost:8080/",
          "height": 343
        }
      },
      "source": [
        "grouped_2 = df.groupby('Country', as_index=False,).agg({'TotalPrice':'sum'})\n",
        "sorted_2 = grouped_2.sort_values(by='TotalPrice', ascending=False)\n",
        "top_10 = sorted_2[:10]\n",
        "top_10"
      ],
      "execution_count": 239,
      "outputs": [
        {
          "output_type": "execute_result",
          "data": {
            "text/html": [
              "<div>\n",
              "<style scoped>\n",
              "    .dataframe tbody tr th:only-of-type {\n",
              "        vertical-align: middle;\n",
              "    }\n",
              "\n",
              "    .dataframe tbody tr th {\n",
              "        vertical-align: top;\n",
              "    }\n",
              "\n",
              "    .dataframe thead th {\n",
              "        text-align: right;\n",
              "    }\n",
              "</style>\n",
              "<table border=\"1\" class=\"dataframe\">\n",
              "  <thead>\n",
              "    <tr style=\"text-align: right;\">\n",
              "      <th></th>\n",
              "      <th>Country</th>\n",
              "      <th>TotalPrice</th>\n",
              "    </tr>\n",
              "  </thead>\n",
              "  <tbody>\n",
              "    <tr>\n",
              "      <th>35</th>\n",
              "      <td>United Kingdom</td>\n",
              "      <td>7.308392e+06</td>\n",
              "    </tr>\n",
              "    <tr>\n",
              "      <th>23</th>\n",
              "      <td>Netherlands</td>\n",
              "      <td>2.854463e+05</td>\n",
              "    </tr>\n",
              "    <tr>\n",
              "      <th>10</th>\n",
              "      <td>EIRE</td>\n",
              "      <td>2.655459e+05</td>\n",
              "    </tr>\n",
              "    <tr>\n",
              "      <th>14</th>\n",
              "      <td>Germany</td>\n",
              "      <td>2.288671e+05</td>\n",
              "    </tr>\n",
              "    <tr>\n",
              "      <th>13</th>\n",
              "      <td>France</td>\n",
              "      <td>2.090240e+05</td>\n",
              "    </tr>\n",
              "    <tr>\n",
              "      <th>0</th>\n",
              "      <td>Australia</td>\n",
              "      <td>1.385213e+05</td>\n",
              "    </tr>\n",
              "    <tr>\n",
              "      <th>30</th>\n",
              "      <td>Spain</td>\n",
              "      <td>6.157711e+04</td>\n",
              "    </tr>\n",
              "    <tr>\n",
              "      <th>32</th>\n",
              "      <td>Switzerland</td>\n",
              "      <td>5.644395e+04</td>\n",
              "    </tr>\n",
              "    <tr>\n",
              "      <th>3</th>\n",
              "      <td>Belgium</td>\n",
              "      <td>4.119634e+04</td>\n",
              "    </tr>\n",
              "    <tr>\n",
              "      <th>31</th>\n",
              "      <td>Sweden</td>\n",
              "      <td>3.837833e+04</td>\n",
              "    </tr>\n",
              "  </tbody>\n",
              "</table>\n",
              "</div>"
            ],
            "text/plain": [
              "           Country    TotalPrice\n",
              "35  United Kingdom  7.308392e+06\n",
              "23     Netherlands  2.854463e+05\n",
              "10            EIRE  2.655459e+05\n",
              "14         Germany  2.288671e+05\n",
              "13          France  2.090240e+05\n",
              "0        Australia  1.385213e+05\n",
              "30           Spain  6.157711e+04\n",
              "32     Switzerland  5.644395e+04\n",
              "3          Belgium  4.119634e+04\n",
              "31          Sweden  3.837833e+04"
            ]
          },
          "metadata": {
            "tags": []
          },
          "execution_count": 239
        }
      ]
    },
    {
      "cell_type": "code",
      "metadata": {
        "id": "ScNA04t51UoQ",
        "outputId": "8cd8b6ed-dc9c-4725-b7be-83d862cfe7ee",
        "colab": {
          "base_uri": "https://localhost:8080/",
          "height": 402
        }
      },
      "source": [
        "grouped_1 = df.groupby('Description', as_index=False,).agg({'TotalPrice':'sum'})\n",
        "sorted_1 = grouped_1.sort_values(by='TotalPrice', ascending=False)\n",
        "sorted_1['cum_sum'] = sorted_1['TotalPrice'].cumsum()\n",
        "sorted_1['cum_perc'] = 100*sorted_1['cum_sum']/sorted_1['TotalPrice'].sum()\n",
        "sorted_1['cum_perc'] = sorted_1['cum_perc'].round(decimals=2)\n",
        "top_item = sorted_1.reset_index(drop=True)\n",
        "top_item"
      ],
      "execution_count": 240,
      "outputs": [
        {
          "output_type": "execute_result",
          "data": {
            "text/html": [
              "<div>\n",
              "<style scoped>\n",
              "    .dataframe tbody tr th:only-of-type {\n",
              "        vertical-align: middle;\n",
              "    }\n",
              "\n",
              "    .dataframe tbody tr th {\n",
              "        vertical-align: top;\n",
              "    }\n",
              "\n",
              "    .dataframe thead th {\n",
              "        text-align: right;\n",
              "    }\n",
              "</style>\n",
              "<table border=\"1\" class=\"dataframe\">\n",
              "  <thead>\n",
              "    <tr style=\"text-align: right;\">\n",
              "      <th></th>\n",
              "      <th>Description</th>\n",
              "      <th>TotalPrice</th>\n",
              "      <th>cum_sum</th>\n",
              "      <th>cum_perc</th>\n",
              "    </tr>\n",
              "  </thead>\n",
              "  <tbody>\n",
              "    <tr>\n",
              "      <th>0</th>\n",
              "      <td>PAPER CRAFT , LITTLE BIRDIE</td>\n",
              "      <td>168469.600</td>\n",
              "      <td>168469.600</td>\n",
              "      <td>1.89</td>\n",
              "    </tr>\n",
              "    <tr>\n",
              "      <th>1</th>\n",
              "      <td>REGENCY CAKESTAND 3 TIER</td>\n",
              "      <td>142592.950</td>\n",
              "      <td>311062.550</td>\n",
              "      <td>3.49</td>\n",
              "    </tr>\n",
              "    <tr>\n",
              "      <th>2</th>\n",
              "      <td>WHITE HANGING HEART T-LIGHT HOLDER</td>\n",
              "      <td>100603.500</td>\n",
              "      <td>411666.050</td>\n",
              "      <td>4.62</td>\n",
              "    </tr>\n",
              "    <tr>\n",
              "      <th>3</th>\n",
              "      <td>JUMBO BAG RED RETROSPOT</td>\n",
              "      <td>85220.780</td>\n",
              "      <td>496886.830</td>\n",
              "      <td>5.58</td>\n",
              "    </tr>\n",
              "    <tr>\n",
              "      <th>4</th>\n",
              "      <td>MEDIUM CERAMIC TOP STORAGE JAR</td>\n",
              "      <td>81416.730</td>\n",
              "      <td>578303.560</td>\n",
              "      <td>6.49</td>\n",
              "    </tr>\n",
              "    <tr>\n",
              "      <th>...</th>\n",
              "      <td>...</td>\n",
              "      <td>...</td>\n",
              "      <td>...</td>\n",
              "      <td>...</td>\n",
              "    </tr>\n",
              "    <tr>\n",
              "      <th>3642</th>\n",
              "      <td>PINK CRYSTAL GUITAR PHONE CHARM</td>\n",
              "      <td>0.850</td>\n",
              "      <td>8911405.791</td>\n",
              "      <td>100.00</td>\n",
              "    </tr>\n",
              "    <tr>\n",
              "      <th>3643</th>\n",
              "      <td>PURPLE FRANGIPANI HAIRCLIP</td>\n",
              "      <td>0.850</td>\n",
              "      <td>8911406.641</td>\n",
              "      <td>100.00</td>\n",
              "    </tr>\n",
              "    <tr>\n",
              "      <th>3644</th>\n",
              "      <td>VINTAGE BLUE TINSEL REEL</td>\n",
              "      <td>0.840</td>\n",
              "      <td>8911407.481</td>\n",
              "      <td>100.00</td>\n",
              "    </tr>\n",
              "    <tr>\n",
              "      <th>3645</th>\n",
              "      <td>HEN HOUSE W CHICK IN NEST</td>\n",
              "      <td>0.420</td>\n",
              "      <td>8911407.901</td>\n",
              "      <td>100.00</td>\n",
              "    </tr>\n",
              "    <tr>\n",
              "      <th>3646</th>\n",
              "      <td>PADS TO MATCH ALL CUSHIONS</td>\n",
              "      <td>0.003</td>\n",
              "      <td>8911407.904</td>\n",
              "      <td>100.00</td>\n",
              "    </tr>\n",
              "  </tbody>\n",
              "</table>\n",
              "<p>3647 rows × 4 columns</p>\n",
              "</div>"
            ],
            "text/plain": [
              "                             Description  TotalPrice      cum_sum  cum_perc\n",
              "0            PAPER CRAFT , LITTLE BIRDIE  168469.600   168469.600      1.89\n",
              "1               REGENCY CAKESTAND 3 TIER  142592.950   311062.550      3.49\n",
              "2     WHITE HANGING HEART T-LIGHT HOLDER  100603.500   411666.050      4.62\n",
              "3                JUMBO BAG RED RETROSPOT   85220.780   496886.830      5.58\n",
              "4         MEDIUM CERAMIC TOP STORAGE JAR   81416.730   578303.560      6.49\n",
              "...                                  ...         ...          ...       ...\n",
              "3642     PINK CRYSTAL GUITAR PHONE CHARM       0.850  8911405.791    100.00\n",
              "3643          PURPLE FRANGIPANI HAIRCLIP       0.850  8911406.641    100.00\n",
              "3644            VINTAGE BLUE TINSEL REEL       0.840  8911407.481    100.00\n",
              "3645           HEN HOUSE W CHICK IN NEST       0.420  8911407.901    100.00\n",
              "3646          PADS TO MATCH ALL CUSHIONS       0.003  8911407.904    100.00\n",
              "\n",
              "[3647 rows x 4 columns]"
            ]
          },
          "metadata": {
            "tags": []
          },
          "execution_count": 240
        }
      ]
    },
    {
      "cell_type": "code",
      "metadata": {
        "id": "TLblPn_C1w82",
        "outputId": "88b4cb8b-ed3e-4e72-8c71-334019807d9d",
        "colab": {
          "base_uri": "https://localhost:8080/",
          "height": 77
        }
      },
      "source": [
        "idx = top_item[top_item['cum_perc'] == 80.01]\n",
        "idx"
      ],
      "execution_count": 241,
      "outputs": [
        {
          "output_type": "execute_result",
          "data": {
            "text/html": [
              "<div>\n",
              "<style scoped>\n",
              "    .dataframe tbody tr th:only-of-type {\n",
              "        vertical-align: middle;\n",
              "    }\n",
              "\n",
              "    .dataframe tbody tr th {\n",
              "        vertical-align: top;\n",
              "    }\n",
              "\n",
              "    .dataframe thead th {\n",
              "        text-align: right;\n",
              "    }\n",
              "</style>\n",
              "<table border=\"1\" class=\"dataframe\">\n",
              "  <thead>\n",
              "    <tr style=\"text-align: right;\">\n",
              "      <th></th>\n",
              "      <th>Description</th>\n",
              "      <th>TotalPrice</th>\n",
              "      <th>cum_sum</th>\n",
              "      <th>cum_perc</th>\n",
              "    </tr>\n",
              "  </thead>\n",
              "  <tbody>\n",
              "    <tr>\n",
              "      <th>776</th>\n",
              "      <td>ENAMEL WATERING CAN CREAM</td>\n",
              "      <td>2646.6</td>\n",
              "      <td>7129884.41</td>\n",
              "      <td>80.01</td>\n",
              "    </tr>\n",
              "  </tbody>\n",
              "</table>\n",
              "</div>"
            ],
            "text/plain": [
              "                   Description  TotalPrice     cum_sum  cum_perc\n",
              "776  ENAMEL WATERING CAN CREAM      2646.6  7129884.41     80.01"
            ]
          },
          "metadata": {
            "tags": []
          },
          "execution_count": 241
        }
      ]
    },
    {
      "cell_type": "code",
      "metadata": {
        "id": "kRZT3q731xNs",
        "outputId": "a23c0056-7f1d-4183-9d66-e12ce085f11d",
        "colab": {
          "base_uri": "https://localhost:8080/",
          "height": 34
        }
      },
      "source": [
        "777/3647*100"
      ],
      "execution_count": 242,
      "outputs": [
        {
          "output_type": "execute_result",
          "data": {
            "text/plain": [
              "21.30518234165067"
            ]
          },
          "metadata": {
            "tags": []
          },
          "execution_count": 242
        }
      ]
    },
    {
      "cell_type": "markdown",
      "metadata": {
        "id": "TWP_AxIO2Bo6"
      },
      "source": [
        "80% hasil penjualan berasal dari 21,30% keseluruhan item dengan penjualan paling banyak (dari segi pemasukan)"
      ]
    },
    {
      "cell_type": "code",
      "metadata": {
        "id": "TfMD3dvf1-wm"
      },
      "source": [
        "def pareto_plot(df, x=None, y=None, title=None, show_pct_y=False, pct_format='{0:.0%}'):\n",
        "    xlabel = x\n",
        "    ylabel = y\n",
        "    tmp = df.sort_values(y, ascending=False)\n",
        "    x = tmp[x].values\n",
        "    y = tmp[y].values\n",
        "    weights = y / 8911407.904\n",
        "    cumsum = weights.cumsum()\n",
        "\n",
        "    fig, ax1 = plt.subplots(figsize=(12,6))\n",
        "    ax1.bar(x, y)\n",
        "    ax1.set_xlabel(xlabel, rotation='horizontal')\n",
        "    ax1.set_ylabel(ylabel)\n",
        "\n",
        "    ax2 = ax1.twinx()\n",
        "    ax2.plot(x, cumsum, '-ro', alpha=0.5)\n",
        "    ax2.set_ylabel('', color='r')\n",
        "    ax2.tick_params('y', colors='r')\n",
        "    \n",
        "    vals = ax2.get_yticks()\n",
        "    ax2.set_yticklabels(['{:,.2%}'.format(x) for x in vals])\n",
        "\n",
        "    # hide y-labels on right side\n",
        "    if not show_pct_y:\n",
        "        ax2.set_yticks([])\n",
        "    \n",
        "    formatted_weights = [pct_format.format(x) for x in cumsum]\n",
        "    for i, txt in enumerate(formatted_weights):\n",
        "        ax2.annotate(txt, (x[i], cumsum[i]), fontweight='heavy')    \n",
        "    \n",
        "    if title:\n",
        "        plt.title(title)\n",
        "    \n",
        "    plt.tight_layout()\n",
        "    plt.show()\n",
        "    plt.savefig('test.png')"
      ],
      "execution_count": 243,
      "outputs": []
    },
    {
      "cell_type": "code",
      "metadata": {
        "id": "u50hEypO1-8P",
        "outputId": "bfa60e37-8244-4ddf-8ac9-1b85f4e8fd8c",
        "colab": {
          "base_uri": "https://localhost:8080/",
          "height": 458
        }
      },
      "source": [
        "pareto_plot(top_10, x='Country', y='TotalPrice', title='Total Sales by Country')"
      ],
      "execution_count": 244,
      "outputs": [
        {
          "output_type": "display_data",
          "data": {
            "image/png": "[encoded data removed]",
            "text/plain": [
              "<Figure size 864x432 with 2 Axes>"
            ]
          },
          "metadata": {
            "tags": [],
            "needs_background": "light"
          }
        },
        {
          "output_type": "display_data",
          "data": {
            "text/plain": [
              "<Figure size 432x288 with 0 Axes>"
            ]
          },
          "metadata": {
            "tags": []
          }
        }
      ]
    },
    {
      "cell_type": "code",
      "metadata": {
        "id": "ReA0NKYO1_HL",
        "outputId": "f42c099d-4d25-41d0-955a-6178fcb6be1d",
        "colab": {
          "base_uri": "https://localhost:8080/",
          "height": 34
        }
      },
      "source": [
        "df.TotalPrice.sum()"
      ],
      "execution_count": 245,
      "outputs": [
        {
          "output_type": "execute_result",
          "data": {
            "text/plain": [
              "8911407.904"
            ]
          },
          "metadata": {
            "tags": []
          },
          "execution_count": 245
        }
      ]
    },
    {
      "cell_type": "markdown",
      "metadata": {
        "id": "Pg1pdXHF2ZCB"
      },
      "source": [
        "# **Exploratory Data Analysis**"
      ]
    },
    {
      "cell_type": "code",
      "metadata": {
        "id": "TyX7n1BV2Oof",
        "outputId": "fa001980-c13e-4714-9a3a-0a63da413f47",
        "colab": {
          "base_uri": "https://localhost:8080/",
          "height": 1000
        }
      },
      "source": [
        "# EDA\n",
        "# Sales per Customer\n",
        "fig = plt.figure(figsize=(25, 7))\n",
        "f2 = fig.add_subplot(122)\n",
        "g = df.groupby([\"CustomerID\"]).TotalPrice.sum().sort_values(ascending = False)[:10].plot(kind='bar', title='Amount Sales by Country', color='purple')\n",
        "plt.title('Top 10 Customer with Highest Spending (Monetary Value)')\n",
        "\n",
        "# Sales per StockCode\n",
        "fig = plt.figure(figsize=(25, 12))\n",
        "f3 = fig.add_subplot(221)\n",
        "g = df.groupby([\"Description\"]).Quantity.sum().sort_values(ascending = False)[:10].plot(kind='bar', title='Amount Sales by Country', color='green')\n",
        "plt.title('Top 10 Items Contribute to Overall Sales') \n",
        "\n",
        "fig = plt.figure(figsize=(25, 12))\n",
        "f4 = fig.add_subplot(222)\n",
        "g = df.groupby([\"Description\"]).Quantity.count().sort_values(ascending = False)[:10].plot(kind='bar', title='Amount Sales by Country', color='green')\n",
        "plt.title('Top 10 Items Sold') # Paling Laku"
      ],
      "execution_count": 246,
      "outputs": [
        {
          "output_type": "execute_result",
          "data": {
            "text/plain": [
              "Text(0.5, 1.0, 'Top 10 Items Sold')"
            ]
          },
          "metadata": {
            "tags": []
          },
          "execution_count": 246
        },
        {
          "output_type": "display_data",
          "data": {
            "image/png": "[encoded data removed]",
            "text/plain": [
              "<Figure size 1800x504 with 1 Axes>"
            ]
          },
          "metadata": {
            "tags": [],
            "needs_background": "light"
          }
        },
        {
          "output_type": "display_data",
          "data": {
            "image/png": "[encoded data removed]",
            "text/plain": [
              "<Figure size 1800x864 with 1 Axes>"
            ]
          },
          "metadata": {
            "tags": [],
            "needs_background": "light"
          }
        },
        {
          "output_type": "display_data",
          "data": {
            "image/png": "[encoded data removed]",
            "text/plain": [
              "<Figure size 1800x864 with 1 Axes>"
            ]
          },
          "metadata": {
            "tags": [],
            "needs_background": "light"
          }
        }
      ]
    },
    {
      "cell_type": "markdown",
      "metadata": {
        "id": "G4SDu9Of254G"
      },
      "source": [
        "# **Data Modeling**"
      ]
    },
    {
      "cell_type": "markdown",
      "metadata": {
        "id": "-8rH8XxMgzex"
      },
      "source": [
        "Clustering based on:\n",
        "* R (Recency): Number of Days since Last Purchase\n",
        "* F (Frequency): Number of Tracsactions\n",
        "* M (Monetary): Total Amount of Transactions"
      ]
    },
    {
      "cell_type": "markdown",
      "metadata": {
        "id": "KWHXFBzciUwK"
      },
      "source": [
        "**RECENCY : NUMBER OF DAYS SINCE LAST PURCHASE**"
      ]
    },
    {
      "cell_type": "code",
      "metadata": {
        "id": "vGfCYI4uW9VI",
        "outputId": "80bf0e56-7463-41ce-e3c8-e72a605bc1ee",
        "colab": {
          "base_uri": "https://localhost:8080/",
          "height": 195
        }
      },
      "source": [
        "df['InvoiceDate'] = pd.to_datetime(df['InvoiceDate'])\n",
        "df.head()"
      ],
      "execution_count": 247,
      "outputs": [
        {
          "output_type": "execute_result",
          "data": {
            "text/html": [
              "<div>\n",
              "<style scoped>\n",
              "    .dataframe tbody tr th:only-of-type {\n",
              "        vertical-align: middle;\n",
              "    }\n",
              "\n",
              "    .dataframe tbody tr th {\n",
              "        vertical-align: top;\n",
              "    }\n",
              "\n",
              "    .dataframe thead th {\n",
              "        text-align: right;\n",
              "    }\n",
              "</style>\n",
              "<table border=\"1\" class=\"dataframe\">\n",
              "  <thead>\n",
              "    <tr style=\"text-align: right;\">\n",
              "      <th></th>\n",
              "      <th>InvoiceNo</th>\n",
              "      <th>StockCode</th>\n",
              "      <th>Description</th>\n",
              "      <th>Quantity</th>\n",
              "      <th>InvoiceDate</th>\n",
              "      <th>UnitPrice</th>\n",
              "      <th>CustomerID</th>\n",
              "      <th>Country</th>\n",
              "      <th>TotalPrice</th>\n",
              "    </tr>\n",
              "  </thead>\n",
              "  <tbody>\n",
              "    <tr>\n",
              "      <th>0</th>\n",
              "      <td>536365</td>\n",
              "      <td>85123A</td>\n",
              "      <td>WHITE HANGING HEART T-LIGHT HOLDER</td>\n",
              "      <td>6</td>\n",
              "      <td>2010-12-01 08:26:00</td>\n",
              "      <td>2.55</td>\n",
              "      <td>17850</td>\n",
              "      <td>United Kingdom</td>\n",
              "      <td>15.30</td>\n",
              "    </tr>\n",
              "    <tr>\n",
              "      <th>1</th>\n",
              "      <td>536365</td>\n",
              "      <td>71053</td>\n",
              "      <td>WHITE METAL LANTERN</td>\n",
              "      <td>6</td>\n",
              "      <td>2010-12-01 08:26:00</td>\n",
              "      <td>3.39</td>\n",
              "      <td>17850</td>\n",
              "      <td>United Kingdom</td>\n",
              "      <td>20.34</td>\n",
              "    </tr>\n",
              "    <tr>\n",
              "      <th>2</th>\n",
              "      <td>536365</td>\n",
              "      <td>84406B</td>\n",
              "      <td>CREAM CUPID HEARTS COAT HANGER</td>\n",
              "      <td>8</td>\n",
              "      <td>2010-12-01 08:26:00</td>\n",
              "      <td>2.75</td>\n",
              "      <td>17850</td>\n",
              "      <td>United Kingdom</td>\n",
              "      <td>22.00</td>\n",
              "    </tr>\n",
              "    <tr>\n",
              "      <th>3</th>\n",
              "      <td>536365</td>\n",
              "      <td>84029G</td>\n",
              "      <td>KNITTED UNION FLAG HOT WATER BOTTLE</td>\n",
              "      <td>6</td>\n",
              "      <td>2010-12-01 08:26:00</td>\n",
              "      <td>3.39</td>\n",
              "      <td>17850</td>\n",
              "      <td>United Kingdom</td>\n",
              "      <td>20.34</td>\n",
              "    </tr>\n",
              "    <tr>\n",
              "      <th>4</th>\n",
              "      <td>536365</td>\n",
              "      <td>84029E</td>\n",
              "      <td>RED WOOLLY HOTTIE WHITE HEART.</td>\n",
              "      <td>6</td>\n",
              "      <td>2010-12-01 08:26:00</td>\n",
              "      <td>3.39</td>\n",
              "      <td>17850</td>\n",
              "      <td>United Kingdom</td>\n",
              "      <td>20.34</td>\n",
              "    </tr>\n",
              "  </tbody>\n",
              "</table>\n",
              "</div>"
            ],
            "text/plain": [
              "  InvoiceNo StockCode  ...         Country  TotalPrice\n",
              "0    536365    85123A  ...  United Kingdom       15.30\n",
              "1    536365     71053  ...  United Kingdom       20.34\n",
              "2    536365    84406B  ...  United Kingdom       22.00\n",
              "3    536365    84029G  ...  United Kingdom       20.34\n",
              "4    536365    84029E  ...  United Kingdom       20.34\n",
              "\n",
              "[5 rows x 9 columns]"
            ]
          },
          "metadata": {
            "tags": []
          },
          "execution_count": 247
        }
      ]
    },
    {
      "cell_type": "code",
      "metadata": {
        "id": "zJzGN1_KaqrZ",
        "outputId": "efc589a4-5578-4750-b160-7b8f31caf6dc",
        "colab": {
          "base_uri": "https://localhost:8080/",
          "height": 34
        }
      },
      "source": [
        "maxdate = max(df['InvoiceDate'])\n",
        "maxdate"
      ],
      "execution_count": 248,
      "outputs": [
        {
          "output_type": "execute_result",
          "data": {
            "text/plain": [
              "Timestamp('2011-12-09 12:50:00')"
            ]
          },
          "metadata": {
            "tags": []
          },
          "execution_count": 248
        }
      ]
    },
    {
      "cell_type": "code",
      "metadata": {
        "id": "kwwonAeSg1gU",
        "outputId": "48dbe9ec-0e01-4d19-b15a-065fcc5d79bc",
        "colab": {
          "base_uri": "https://localhost:8080/",
          "height": 195
        }
      },
      "source": [
        "# calculate the differences between maxdate and InvoiceDate\n",
        "df['Recency'] = (maxdate - df['InvoiceDate']).dt.days\n",
        "df.head()"
      ],
      "execution_count": 249,
      "outputs": [
        {
          "output_type": "execute_result",
          "data": {
            "text/html": [
              "<div>\n",
              "<style scoped>\n",
              "    .dataframe tbody tr th:only-of-type {\n",
              "        vertical-align: middle;\n",
              "    }\n",
              "\n",
              "    .dataframe tbody tr th {\n",
              "        vertical-align: top;\n",
              "    }\n",
              "\n",
              "    .dataframe thead th {\n",
              "        text-align: right;\n",
              "    }\n",
              "</style>\n",
              "<table border=\"1\" class=\"dataframe\">\n",
              "  <thead>\n",
              "    <tr style=\"text-align: right;\">\n",
              "      <th></th>\n",
              "      <th>InvoiceNo</th>\n",
              "      <th>StockCode</th>\n",
              "      <th>Description</th>\n",
              "      <th>Quantity</th>\n",
              "      <th>InvoiceDate</th>\n",
              "      <th>UnitPrice</th>\n",
              "      <th>CustomerID</th>\n",
              "      <th>Country</th>\n",
              "      <th>TotalPrice</th>\n",
              "      <th>Recency</th>\n",
              "    </tr>\n",
              "  </thead>\n",
              "  <tbody>\n",
              "    <tr>\n",
              "      <th>0</th>\n",
              "      <td>536365</td>\n",
              "      <td>85123A</td>\n",
              "      <td>WHITE HANGING HEART T-LIGHT HOLDER</td>\n",
              "      <td>6</td>\n",
              "      <td>2010-12-01 08:26:00</td>\n",
              "      <td>2.55</td>\n",
              "      <td>17850</td>\n",
              "      <td>United Kingdom</td>\n",
              "      <td>15.30</td>\n",
              "      <td>373</td>\n",
              "    </tr>\n",
              "    <tr>\n",
              "      <th>1</th>\n",
              "      <td>536365</td>\n",
              "      <td>71053</td>\n",
              "      <td>WHITE METAL LANTERN</td>\n",
              "      <td>6</td>\n",
              "      <td>2010-12-01 08:26:00</td>\n",
              "      <td>3.39</td>\n",
              "      <td>17850</td>\n",
              "      <td>United Kingdom</td>\n",
              "      <td>20.34</td>\n",
              "      <td>373</td>\n",
              "    </tr>\n",
              "    <tr>\n",
              "      <th>2</th>\n",
              "      <td>536365</td>\n",
              "      <td>84406B</td>\n",
              "      <td>CREAM CUPID HEARTS COAT HANGER</td>\n",
              "      <td>8</td>\n",
              "      <td>2010-12-01 08:26:00</td>\n",
              "      <td>2.75</td>\n",
              "      <td>17850</td>\n",
              "      <td>United Kingdom</td>\n",
              "      <td>22.00</td>\n",
              "      <td>373</td>\n",
              "    </tr>\n",
              "    <tr>\n",
              "      <th>3</th>\n",
              "      <td>536365</td>\n",
              "      <td>84029G</td>\n",
              "      <td>KNITTED UNION FLAG HOT WATER BOTTLE</td>\n",
              "      <td>6</td>\n",
              "      <td>2010-12-01 08:26:00</td>\n",
              "      <td>3.39</td>\n",
              "      <td>17850</td>\n",
              "      <td>United Kingdom</td>\n",
              "      <td>20.34</td>\n",
              "      <td>373</td>\n",
              "    </tr>\n",
              "    <tr>\n",
              "      <th>4</th>\n",
              "      <td>536365</td>\n",
              "      <td>84029E</td>\n",
              "      <td>RED WOOLLY HOTTIE WHITE HEART.</td>\n",
              "      <td>6</td>\n",
              "      <td>2010-12-01 08:26:00</td>\n",
              "      <td>3.39</td>\n",
              "      <td>17850</td>\n",
              "      <td>United Kingdom</td>\n",
              "      <td>20.34</td>\n",
              "      <td>373</td>\n",
              "    </tr>\n",
              "  </tbody>\n",
              "</table>\n",
              "</div>"
            ],
            "text/plain": [
              "  InvoiceNo StockCode  ... TotalPrice  Recency\n",
              "0    536365    85123A  ...      15.30      373\n",
              "1    536365     71053  ...      20.34      373\n",
              "2    536365    84406B  ...      22.00      373\n",
              "3    536365    84029G  ...      20.34      373\n",
              "4    536365    84029E  ...      20.34      373\n",
              "\n",
              "[5 rows x 10 columns]"
            ]
          },
          "metadata": {
            "tags": []
          },
          "execution_count": 249
        }
      ]
    },
    {
      "cell_type": "code",
      "metadata": {
        "id": "56MZkVG5iI2s",
        "outputId": "996fbb82-6c9d-4e8b-e4c0-a6f9be489aba",
        "colab": {
          "base_uri": "https://localhost:8080/",
          "height": 195
        }
      },
      "source": [
        "rfm_r = df.groupby('CustomerID')['Recency'].min()\n",
        "rfm_r = rfm_r.reset_index()\n",
        "rfm_r.head()"
      ],
      "execution_count": 250,
      "outputs": [
        {
          "output_type": "execute_result",
          "data": {
            "text/html": [
              "<div>\n",
              "<style scoped>\n",
              "    .dataframe tbody tr th:only-of-type {\n",
              "        vertical-align: middle;\n",
              "    }\n",
              "\n",
              "    .dataframe tbody tr th {\n",
              "        vertical-align: top;\n",
              "    }\n",
              "\n",
              "    .dataframe thead th {\n",
              "        text-align: right;\n",
              "    }\n",
              "</style>\n",
              "<table border=\"1\" class=\"dataframe\">\n",
              "  <thead>\n",
              "    <tr style=\"text-align: right;\">\n",
              "      <th></th>\n",
              "      <th>CustomerID</th>\n",
              "      <th>Recency</th>\n",
              "    </tr>\n",
              "  </thead>\n",
              "  <tbody>\n",
              "    <tr>\n",
              "      <th>0</th>\n",
              "      <td>12346</td>\n",
              "      <td>325</td>\n",
              "    </tr>\n",
              "    <tr>\n",
              "      <th>1</th>\n",
              "      <td>12347</td>\n",
              "      <td>1</td>\n",
              "    </tr>\n",
              "    <tr>\n",
              "      <th>2</th>\n",
              "      <td>12348</td>\n",
              "      <td>74</td>\n",
              "    </tr>\n",
              "    <tr>\n",
              "      <th>3</th>\n",
              "      <td>12349</td>\n",
              "      <td>18</td>\n",
              "    </tr>\n",
              "    <tr>\n",
              "      <th>4</th>\n",
              "      <td>12350</td>\n",
              "      <td>309</td>\n",
              "    </tr>\n",
              "  </tbody>\n",
              "</table>\n",
              "</div>"
            ],
            "text/plain": [
              "   CustomerID  Recency\n",
              "0       12346      325\n",
              "1       12347        1\n",
              "2       12348       74\n",
              "3       12349       18\n",
              "4       12350      309"
            ]
          },
          "metadata": {
            "tags": []
          },
          "execution_count": 250
        }
      ]
    },
    {
      "cell_type": "code",
      "metadata": {
        "id": "Q7QIrtTx0u90",
        "outputId": "920222f6-2e19-4c66-a8df-2ede23563648",
        "colab": {
          "base_uri": "https://localhost:8080/",
          "height": 350
        }
      },
      "source": [
        "import seaborn as sns\n",
        "sns.distplot(rfm_r['Recency'], kde=False, bins=50)\n",
        "plt.title('Recency Value Distribution', fontsize = 15)\n",
        "plt.xlabel('Recency')\n",
        "plt.ylabel('Count');"
      ],
      "execution_count": 251,
      "outputs": [
        {
          "output_type": "stream",
          "text": [
            "/usr/local/lib/python3.6/dist-packages/seaborn/distributions.py:2551: FutureWarning: `distplot` is a deprecated function and will be removed in a future version. Please adapt your code to use either `displot` (a figure-level function with similar flexibility) or `histplot` (an axes-level function for histograms).\n",
            "  warnings.warn(msg, FutureWarning)\n"
          ],
          "name": "stderr"
        },
        {
          "output_type": "display_data",
          "data": {
            "image/png": "[encoded data removed]",
            "text/plain": [
              "<Figure size 432x288 with 1 Axes>"
            ]
          },
          "metadata": {
            "tags": [],
            "needs_background": "light"
          }
        }
      ]
    },
    {
      "cell_type": "markdown",
      "metadata": {
        "id": "YQEiSfjaow0k"
      },
      "source": [
        "**CLUSTERING WITH K-MEANS**"
      ]
    },
    {
      "cell_type": "code",
      "metadata": {
        "id": "Rxxzpupb_NYj"
      },
      "source": [
        "from sklearn.cluster import KMeans\n",
        "from sklearn.decomposition import PCA\n",
        "from sklearn.pipeline import Pipeline\n",
        "from sklearn.preprocessing import LabelEncoder, MinMaxScaler"
      ],
      "execution_count": 252,
      "outputs": []
    },
    {
      "cell_type": "code",
      "metadata": {
        "id": "GqVnq5pEKOJI"
      },
      "source": [
        "distortions = []\n",
        "K = range(1,10)\n",
        "for k in K:\n",
        "    kmeanModel = KMeans(n_clusters=k)\n",
        "    kmeanModel.fit(rfm_r)\n",
        "    distortions.append(kmeanModel.inertia_)"
      ],
      "execution_count": 253,
      "outputs": []
    },
    {
      "cell_type": "code",
      "metadata": {
        "id": "L17PKokUK-bu",
        "outputId": "c1867e4c-5be5-4adc-e928-64db6614949b",
        "colab": {
          "base_uri": "https://localhost:8080/",
          "height": 513
        }
      },
      "source": [
        "plt.figure(figsize=(10,8))\n",
        "plt.plot(K, distortions, 'bx-')\n",
        "plt.xlabel('k')\n",
        "plt.ylabel('Distortion')\n",
        "plt.title('The Elbow Method : Optimal K')\n",
        "plt.show()"
      ],
      "execution_count": 254,
      "outputs": [
        {
          "output_type": "display_data",
          "data": {
            "image/png": "[encoded data removed]",
            "text/plain": [
              "<Figure size 720x576 with 1 Axes>"
            ]
          },
          "metadata": {
            "tags": [],
            "needs_background": "light"
          }
        }
      ]
    },
    {
      "cell_type": "code",
      "metadata": {
        "id": "hX603GyZlyPR"
      },
      "source": [
        "preprocessor = Pipeline([\n",
        "  (\"scaler\", MinMaxScaler())\n",
        "])"
      ],
      "execution_count": 255,
      "outputs": []
    },
    {
      "cell_type": "code",
      "metadata": {
        "id": "JmyAharc_Q_E"
      },
      "source": [
        "clusterer = Pipeline(\n",
        "   [\n",
        "       (\n",
        "          \"kmeans\",\n",
        "           KMeans(\n",
        "               n_clusters= 3,\n",
        "               init=\"k-means++\",\n",
        "               random_state=42,\n",
        "           ),\n",
        "       ),\n",
        "   ]\n",
        ")"
      ],
      "execution_count": 256,
      "outputs": []
    },
    {
      "cell_type": "code",
      "metadata": {
        "id": "GKvi-nTF_Y0-"
      },
      "source": [
        "pipe = Pipeline(\n",
        "    [\n",
        "        (\"preprocessor\", preprocessor),\n",
        "        (\"clusterer\", clusterer)\n",
        "    ]\n",
        ")"
      ],
      "execution_count": 257,
      "outputs": []
    },
    {
      "cell_type": "code",
      "metadata": {
        "id": "G7fsd4GwouyJ",
        "outputId": "80a62c72-e1a7-4e8b-e528-8726e43f5987",
        "colab": {
          "base_uri": "https://localhost:8080/",
          "height": 319
        }
      },
      "source": [
        "pipe.fit(rfm_r[['Recency']])"
      ],
      "execution_count": 258,
      "outputs": [
        {
          "output_type": "execute_result",
          "data": {
            "text/plain": [
              "Pipeline(memory=None,\n",
              "         steps=[('preprocessor',\n",
              "                 Pipeline(memory=None,\n",
              "                          steps=[('scaler',\n",
              "                                  MinMaxScaler(copy=True,\n",
              "                                               feature_range=(0, 1)))],\n",
              "                          verbose=False)),\n",
              "                ('clusterer',\n",
              "                 Pipeline(memory=None,\n",
              "                          steps=[('kmeans',\n",
              "                                  KMeans(algorithm='auto', copy_x=True,\n",
              "                                         init='k-means++', max_iter=300,\n",
              "                                         n_clusters=3, n_init=10, n_jobs=None,\n",
              "                                         precompute_distances='auto',\n",
              "                                         random_state=42, tol=0.0001,\n",
              "                                         verbose=0))],\n",
              "                          verbose=False))],\n",
              "         verbose=False)"
            ]
          },
          "metadata": {
            "tags": []
          },
          "execution_count": 258
        }
      ]
    },
    {
      "cell_type": "code",
      "metadata": {
        "id": "ZhhC7wXr_gtN",
        "outputId": "091523b1-9e95-4de7-8362-6d462183242b",
        "colab": {
          "base_uri": "https://localhost:8080/",
          "height": 195
        }
      },
      "source": [
        "preprocessed_data = pipe[\"preprocessor\"].transform(rfm_r[['Recency']])\n",
        "labels_r = pipe[\"clusterer\"][\"kmeans\"].labels_\n",
        "rfm_r[\"RecencyCluster\"] = labels_r\n",
        "rfm_r.head()"
      ],
      "execution_count": 259,
      "outputs": [
        {
          "output_type": "execute_result",
          "data": {
            "text/html": [
              "<div>\n",
              "<style scoped>\n",
              "    .dataframe tbody tr th:only-of-type {\n",
              "        vertical-align: middle;\n",
              "    }\n",
              "\n",
              "    .dataframe tbody tr th {\n",
              "        vertical-align: top;\n",
              "    }\n",
              "\n",
              "    .dataframe thead th {\n",
              "        text-align: right;\n",
              "    }\n",
              "</style>\n",
              "<table border=\"1\" class=\"dataframe\">\n",
              "  <thead>\n",
              "    <tr style=\"text-align: right;\">\n",
              "      <th></th>\n",
              "      <th>CustomerID</th>\n",
              "      <th>Recency</th>\n",
              "      <th>RecencyCluster</th>\n",
              "    </tr>\n",
              "  </thead>\n",
              "  <tbody>\n",
              "    <tr>\n",
              "      <th>0</th>\n",
              "      <td>12346</td>\n",
              "      <td>325</td>\n",
              "      <td>1</td>\n",
              "    </tr>\n",
              "    <tr>\n",
              "      <th>1</th>\n",
              "      <td>12347</td>\n",
              "      <td>1</td>\n",
              "      <td>0</td>\n",
              "    </tr>\n",
              "    <tr>\n",
              "      <th>2</th>\n",
              "      <td>12348</td>\n",
              "      <td>74</td>\n",
              "      <td>0</td>\n",
              "    </tr>\n",
              "    <tr>\n",
              "      <th>3</th>\n",
              "      <td>12349</td>\n",
              "      <td>18</td>\n",
              "      <td>0</td>\n",
              "    </tr>\n",
              "    <tr>\n",
              "      <th>4</th>\n",
              "      <td>12350</td>\n",
              "      <td>309</td>\n",
              "      <td>1</td>\n",
              "    </tr>\n",
              "  </tbody>\n",
              "</table>\n",
              "</div>"
            ],
            "text/plain": [
              "   CustomerID  Recency  RecencyCluster\n",
              "0       12346      325               1\n",
              "1       12347        1               0\n",
              "2       12348       74               0\n",
              "3       12349       18               0\n",
              "4       12350      309               1"
            ]
          },
          "metadata": {
            "tags": []
          },
          "execution_count": 259
        }
      ]
    },
    {
      "cell_type": "code",
      "metadata": {
        "id": "aMycq9SG4aTe",
        "outputId": "06cb5c1c-5913-4aa8-a480-a831d079a2da",
        "colab": {
          "base_uri": "https://localhost:8080/",
          "height": 34
        }
      },
      "source": [
        "from sklearn.metrics import silhouette_score, adjusted_rand_score\n",
        "silhouette_score(preprocessed_data, labels_r)"
      ],
      "execution_count": 260,
      "outputs": [
        {
          "output_type": "execute_result",
          "data": {
            "text/plain": [
              "0.6747352836926265"
            ]
          },
          "metadata": {
            "tags": []
          },
          "execution_count": 260
        }
      ]
    },
    {
      "cell_type": "code",
      "metadata": {
        "id": "W_3Axl4AArnz",
        "outputId": "7b939396-02db-4b8e-987c-7e1937ffb830",
        "colab": {
          "base_uri": "https://localhost:8080/",
          "height": 166
        }
      },
      "source": [
        "rfm_r.groupby('RecencyCluster')['Recency'].describe()"
      ],
      "execution_count": 261,
      "outputs": [
        {
          "output_type": "execute_result",
          "data": {
            "text/html": [
              "<div>\n",
              "<style scoped>\n",
              "    .dataframe tbody tr th:only-of-type {\n",
              "        vertical-align: middle;\n",
              "    }\n",
              "\n",
              "    .dataframe tbody tr th {\n",
              "        vertical-align: top;\n",
              "    }\n",
              "\n",
              "    .dataframe thead th {\n",
              "        text-align: right;\n",
              "    }\n",
              "</style>\n",
              "<table border=\"1\" class=\"dataframe\">\n",
              "  <thead>\n",
              "    <tr style=\"text-align: right;\">\n",
              "      <th></th>\n",
              "      <th>count</th>\n",
              "      <th>mean</th>\n",
              "      <th>std</th>\n",
              "      <th>min</th>\n",
              "      <th>25%</th>\n",
              "      <th>50%</th>\n",
              "      <th>75%</th>\n",
              "      <th>max</th>\n",
              "    </tr>\n",
              "    <tr>\n",
              "      <th>RecencyCluster</th>\n",
              "      <th></th>\n",
              "      <th></th>\n",
              "      <th></th>\n",
              "      <th></th>\n",
              "      <th></th>\n",
              "      <th></th>\n",
              "      <th></th>\n",
              "      <th></th>\n",
              "    </tr>\n",
              "  </thead>\n",
              "  <tbody>\n",
              "    <tr>\n",
              "      <th>0</th>\n",
              "      <td>2906.0</td>\n",
              "      <td>31.163799</td>\n",
              "      <td>25.089417</td>\n",
              "      <td>0.0</td>\n",
              "      <td>10.0</td>\n",
              "      <td>24.0</td>\n",
              "      <td>50.00</td>\n",
              "      <td>91.0</td>\n",
              "    </tr>\n",
              "    <tr>\n",
              "      <th>1</th>\n",
              "      <td>626.0</td>\n",
              "      <td>293.431310</td>\n",
              "      <td>45.109849</td>\n",
              "      <td>224.0</td>\n",
              "      <td>256.0</td>\n",
              "      <td>286.5</td>\n",
              "      <td>325.75</td>\n",
              "      <td>373.0</td>\n",
              "    </tr>\n",
              "    <tr>\n",
              "      <th>2</th>\n",
              "      <td>806.0</td>\n",
              "      <td>152.400744</td>\n",
              "      <td>38.405673</td>\n",
              "      <td>92.0</td>\n",
              "      <td>118.0</td>\n",
              "      <td>151.5</td>\n",
              "      <td>185.00</td>\n",
              "      <td>222.0</td>\n",
              "    </tr>\n",
              "  </tbody>\n",
              "</table>\n",
              "</div>"
            ],
            "text/plain": [
              "                 count        mean        std  ...    50%     75%    max\n",
              "RecencyCluster                                 ...                      \n",
              "0               2906.0   31.163799  25.089417  ...   24.0   50.00   91.0\n",
              "1                626.0  293.431310  45.109849  ...  286.5  325.75  373.0\n",
              "2                806.0  152.400744  38.405673  ...  151.5  185.00  222.0\n",
              "\n",
              "[3 rows x 8 columns]"
            ]
          },
          "metadata": {
            "tags": []
          },
          "execution_count": 261
        }
      ]
    },
    {
      "cell_type": "code",
      "metadata": {
        "id": "t5wdN6ENCIM3"
      },
      "source": [
        "def cluster_order(cluster, target, df, ascending):\n",
        "    new_cluster = 'new_' + cluster\n",
        "    df_new = df.groupby(cluster)[target].mean().reset_index()\n",
        "    df_new = df_new.sort_values(by = target, ascending = ascending).reset_index(drop=True)\n",
        "    df_new['index'] = df_new.index\n",
        "    df_fin = pd.merge(df, df_new[[cluster,'index']], on=cluster)\n",
        "    df_fin = df_fin.drop([cluster],axis=1)\n",
        "    df_fin = df_fin.rename(columns={\"index\":cluster})\n",
        "    return df_fin"
      ],
      "execution_count": 262,
      "outputs": []
    },
    {
      "cell_type": "code",
      "metadata": {
        "id": "AE1No-_1BIUq",
        "outputId": "7408ecb1-f9a0-4e3c-9eab-dc81978789d9",
        "colab": {
          "base_uri": "https://localhost:8080/",
          "height": 195
        }
      },
      "source": [
        "rfm_r = cluster_order('RecencyCluster', 'Recency',rfm_r,False)\n",
        "rfm_r.head()"
      ],
      "execution_count": 263,
      "outputs": [
        {
          "output_type": "execute_result",
          "data": {
            "text/html": [
              "<div>\n",
              "<style scoped>\n",
              "    .dataframe tbody tr th:only-of-type {\n",
              "        vertical-align: middle;\n",
              "    }\n",
              "\n",
              "    .dataframe tbody tr th {\n",
              "        vertical-align: top;\n",
              "    }\n",
              "\n",
              "    .dataframe thead th {\n",
              "        text-align: right;\n",
              "    }\n",
              "</style>\n",
              "<table border=\"1\" class=\"dataframe\">\n",
              "  <thead>\n",
              "    <tr style=\"text-align: right;\">\n",
              "      <th></th>\n",
              "      <th>CustomerID</th>\n",
              "      <th>Recency</th>\n",
              "      <th>RecencyCluster</th>\n",
              "    </tr>\n",
              "  </thead>\n",
              "  <tbody>\n",
              "    <tr>\n",
              "      <th>0</th>\n",
              "      <td>12346</td>\n",
              "      <td>325</td>\n",
              "      <td>0</td>\n",
              "    </tr>\n",
              "    <tr>\n",
              "      <th>1</th>\n",
              "      <td>12350</td>\n",
              "      <td>309</td>\n",
              "      <td>0</td>\n",
              "    </tr>\n",
              "    <tr>\n",
              "      <th>2</th>\n",
              "      <td>12354</td>\n",
              "      <td>231</td>\n",
              "      <td>0</td>\n",
              "    </tr>\n",
              "    <tr>\n",
              "      <th>3</th>\n",
              "      <td>12361</td>\n",
              "      <td>286</td>\n",
              "      <td>0</td>\n",
              "    </tr>\n",
              "    <tr>\n",
              "      <th>4</th>\n",
              "      <td>12365</td>\n",
              "      <td>290</td>\n",
              "      <td>0</td>\n",
              "    </tr>\n",
              "  </tbody>\n",
              "</table>\n",
              "</div>"
            ],
            "text/plain": [
              "   CustomerID  Recency  RecencyCluster\n",
              "0       12346      325               0\n",
              "1       12350      309               0\n",
              "2       12354      231               0\n",
              "3       12361      286               0\n",
              "4       12365      290               0"
            ]
          },
          "metadata": {
            "tags": []
          },
          "execution_count": 263
        }
      ]
    },
    {
      "cell_type": "code",
      "metadata": {
        "id": "kqMx2OiLnfN_",
        "outputId": "b323b881-8e92-4027-faae-9c174964ce59",
        "colab": {
          "base_uri": "https://localhost:8080/",
          "height": 166
        }
      },
      "source": [
        "rfm_r.groupby('RecencyCluster')['Recency'].describe()"
      ],
      "execution_count": 264,
      "outputs": [
        {
          "output_type": "execute_result",
          "data": {
            "text/html": [
              "<div>\n",
              "<style scoped>\n",
              "    .dataframe tbody tr th:only-of-type {\n",
              "        vertical-align: middle;\n",
              "    }\n",
              "\n",
              "    .dataframe tbody tr th {\n",
              "        vertical-align: top;\n",
              "    }\n",
              "\n",
              "    .dataframe thead th {\n",
              "        text-align: right;\n",
              "    }\n",
              "</style>\n",
              "<table border=\"1\" class=\"dataframe\">\n",
              "  <thead>\n",
              "    <tr style=\"text-align: right;\">\n",
              "      <th></th>\n",
              "      <th>count</th>\n",
              "      <th>mean</th>\n",
              "      <th>std</th>\n",
              "      <th>min</th>\n",
              "      <th>25%</th>\n",
              "      <th>50%</th>\n",
              "      <th>75%</th>\n",
              "      <th>max</th>\n",
              "    </tr>\n",
              "    <tr>\n",
              "      <th>RecencyCluster</th>\n",
              "      <th></th>\n",
              "      <th></th>\n",
              "      <th></th>\n",
              "      <th></th>\n",
              "      <th></th>\n",
              "      <th></th>\n",
              "      <th></th>\n",
              "      <th></th>\n",
              "    </tr>\n",
              "  </thead>\n",
              "  <tbody>\n",
              "    <tr>\n",
              "      <th>0</th>\n",
              "      <td>626.0</td>\n",
              "      <td>293.431310</td>\n",
              "      <td>45.109849</td>\n",
              "      <td>224.0</td>\n",
              "      <td>256.0</td>\n",
              "      <td>286.5</td>\n",
              "      <td>325.75</td>\n",
              "      <td>373.0</td>\n",
              "    </tr>\n",
              "    <tr>\n",
              "      <th>1</th>\n",
              "      <td>806.0</td>\n",
              "      <td>152.400744</td>\n",
              "      <td>38.405673</td>\n",
              "      <td>92.0</td>\n",
              "      <td>118.0</td>\n",
              "      <td>151.5</td>\n",
              "      <td>185.00</td>\n",
              "      <td>222.0</td>\n",
              "    </tr>\n",
              "    <tr>\n",
              "      <th>2</th>\n",
              "      <td>2906.0</td>\n",
              "      <td>31.163799</td>\n",
              "      <td>25.089417</td>\n",
              "      <td>0.0</td>\n",
              "      <td>10.0</td>\n",
              "      <td>24.0</td>\n",
              "      <td>50.00</td>\n",
              "      <td>91.0</td>\n",
              "    </tr>\n",
              "  </tbody>\n",
              "</table>\n",
              "</div>"
            ],
            "text/plain": [
              "                 count        mean        std  ...    50%     75%    max\n",
              "RecencyCluster                                 ...                      \n",
              "0                626.0  293.431310  45.109849  ...  286.5  325.75  373.0\n",
              "1                806.0  152.400744  38.405673  ...  151.5  185.00  222.0\n",
              "2               2906.0   31.163799  25.089417  ...   24.0   50.00   91.0\n",
              "\n",
              "[3 rows x 8 columns]"
            ]
          },
          "metadata": {
            "tags": []
          },
          "execution_count": 264
        }
      ]
    },
    {
      "cell_type": "markdown",
      "metadata": {
        "id": "cQFfufJLidM_"
      },
      "source": [
        "**FREQUENCY : NUMBER OF TRANSACTIONS**"
      ]
    },
    {
      "cell_type": "code",
      "metadata": {
        "id": "2iQo9tsWiPOC",
        "outputId": "836688e6-1e5d-4e6a-ecaf-a64c4ddd61a4",
        "colab": {
          "base_uri": "https://localhost:8080/",
          "height": 195
        }
      },
      "source": [
        "rfm_f = df.groupby('CustomerID')['InvoiceNo'].count()\n",
        "rfm_f = rfm_f.reset_index()\n",
        "rfm_f.columns = ['CustomerID', 'Frequency']\n",
        "rfm_f.head()"
      ],
      "execution_count": 265,
      "outputs": [
        {
          "output_type": "execute_result",
          "data": {
            "text/html": [
              "<div>\n",
              "<style scoped>\n",
              "    .dataframe tbody tr th:only-of-type {\n",
              "        vertical-align: middle;\n",
              "    }\n",
              "\n",
              "    .dataframe tbody tr th {\n",
              "        vertical-align: top;\n",
              "    }\n",
              "\n",
              "    .dataframe thead th {\n",
              "        text-align: right;\n",
              "    }\n",
              "</style>\n",
              "<table border=\"1\" class=\"dataframe\">\n",
              "  <thead>\n",
              "    <tr style=\"text-align: right;\">\n",
              "      <th></th>\n",
              "      <th>CustomerID</th>\n",
              "      <th>Frequency</th>\n",
              "    </tr>\n",
              "  </thead>\n",
              "  <tbody>\n",
              "    <tr>\n",
              "      <th>0</th>\n",
              "      <td>12346</td>\n",
              "      <td>1</td>\n",
              "    </tr>\n",
              "    <tr>\n",
              "      <th>1</th>\n",
              "      <td>12347</td>\n",
              "      <td>182</td>\n",
              "    </tr>\n",
              "    <tr>\n",
              "      <th>2</th>\n",
              "      <td>12348</td>\n",
              "      <td>31</td>\n",
              "    </tr>\n",
              "    <tr>\n",
              "      <th>3</th>\n",
              "      <td>12349</td>\n",
              "      <td>73</td>\n",
              "    </tr>\n",
              "    <tr>\n",
              "      <th>4</th>\n",
              "      <td>12350</td>\n",
              "      <td>17</td>\n",
              "    </tr>\n",
              "  </tbody>\n",
              "</table>\n",
              "</div>"
            ],
            "text/plain": [
              "   CustomerID  Frequency\n",
              "0       12346          1\n",
              "1       12347        182\n",
              "2       12348         31\n",
              "3       12349         73\n",
              "4       12350         17"
            ]
          },
          "metadata": {
            "tags": []
          },
          "execution_count": 265
        }
      ]
    },
    {
      "cell_type": "code",
      "metadata": {
        "id": "dkFJasOj5HbX",
        "outputId": "c42587d2-c373-4494-f38a-53cfe8692713",
        "colab": {
          "base_uri": "https://localhost:8080/",
          "height": 350
        }
      },
      "source": [
        "sns.distplot(rfm_f['Frequency'], kde=False, bins=50)\n",
        "plt.title('Frequency Value Distribution', fontsize = 15)\n",
        "plt.xlabel('Frequency')\n",
        "plt.ylabel('Count');"
      ],
      "execution_count": 266,
      "outputs": [
        {
          "output_type": "stream",
          "text": [
            "/usr/local/lib/python3.6/dist-packages/seaborn/distributions.py:2551: FutureWarning: `distplot` is a deprecated function and will be removed in a future version. Please adapt your code to use either `displot` (a figure-level function with similar flexibility) or `histplot` (an axes-level function for histograms).\n",
            "  warnings.warn(msg, FutureWarning)\n"
          ],
          "name": "stderr"
        },
        {
          "output_type": "display_data",
          "data": {
            "image/png": "[encoded data removed]",
            "text/plain": [
              "<Figure size 432x288 with 1 Axes>"
            ]
          },
          "metadata": {
            "tags": [],
            "needs_background": "light"
          }
        }
      ]
    },
    {
      "cell_type": "markdown",
      "metadata": {
        "id": "gxJvNYe95UQI"
      },
      "source": [
        "**CLUSTERING WITH K-MEANS**"
      ]
    },
    {
      "cell_type": "code",
      "metadata": {
        "id": "fwpU2Nht5iJ6",
        "outputId": "571f0183-27e2-4c21-fc74-a15765083621",
        "colab": {
          "base_uri": "https://localhost:8080/",
          "height": 319
        }
      },
      "source": [
        "pipe.fit(rfm_f[['Frequency']])"
      ],
      "execution_count": 267,
      "outputs": [
        {
          "output_type": "execute_result",
          "data": {
            "text/plain": [
              "Pipeline(memory=None,\n",
              "         steps=[('preprocessor',\n",
              "                 Pipeline(memory=None,\n",
              "                          steps=[('scaler',\n",
              "                                  MinMaxScaler(copy=True,\n",
              "                                               feature_range=(0, 1)))],\n",
              "                          verbose=False)),\n",
              "                ('clusterer',\n",
              "                 Pipeline(memory=None,\n",
              "                          steps=[('kmeans',\n",
              "                                  KMeans(algorithm='auto', copy_x=True,\n",
              "                                         init='k-means++', max_iter=300,\n",
              "                                         n_clusters=3, n_init=10, n_jobs=None,\n",
              "                                         precompute_distances='auto',\n",
              "                                         random_state=42, tol=0.0001,\n",
              "                                         verbose=0))],\n",
              "                          verbose=False))],\n",
              "         verbose=False)"
            ]
          },
          "metadata": {
            "tags": []
          },
          "execution_count": 267
        }
      ]
    },
    {
      "cell_type": "code",
      "metadata": {
        "id": "zSBTtYFnIacY",
        "outputId": "28c2e71e-8da4-42b1-dfd6-5a2c7f28b779",
        "colab": {
          "base_uri": "https://localhost:8080/",
          "height": 195
        }
      },
      "source": [
        "preprocessed_data = pipe[\"preprocessor\"].transform(rfm_f[['Frequency']])\n",
        "labels_f = pipe[\"clusterer\"][\"kmeans\"].labels_\n",
        "rfm_f[\"FrequencyCluster\"] = labels_f\n",
        "rfm_f.head()"
      ],
      "execution_count": 268,
      "outputs": [
        {
          "output_type": "execute_result",
          "data": {
            "text/html": [
              "<div>\n",
              "<style scoped>\n",
              "    .dataframe tbody tr th:only-of-type {\n",
              "        vertical-align: middle;\n",
              "    }\n",
              "\n",
              "    .dataframe tbody tr th {\n",
              "        vertical-align: top;\n",
              "    }\n",
              "\n",
              "    .dataframe thead th {\n",
              "        text-align: right;\n",
              "    }\n",
              "</style>\n",
              "<table border=\"1\" class=\"dataframe\">\n",
              "  <thead>\n",
              "    <tr style=\"text-align: right;\">\n",
              "      <th></th>\n",
              "      <th>CustomerID</th>\n",
              "      <th>Frequency</th>\n",
              "      <th>FrequencyCluster</th>\n",
              "    </tr>\n",
              "  </thead>\n",
              "  <tbody>\n",
              "    <tr>\n",
              "      <th>0</th>\n",
              "      <td>12346</td>\n",
              "      <td>1</td>\n",
              "      <td>0</td>\n",
              "    </tr>\n",
              "    <tr>\n",
              "      <th>1</th>\n",
              "      <td>12347</td>\n",
              "      <td>182</td>\n",
              "      <td>0</td>\n",
              "    </tr>\n",
              "    <tr>\n",
              "      <th>2</th>\n",
              "      <td>12348</td>\n",
              "      <td>31</td>\n",
              "      <td>0</td>\n",
              "    </tr>\n",
              "    <tr>\n",
              "      <th>3</th>\n",
              "      <td>12349</td>\n",
              "      <td>73</td>\n",
              "      <td>0</td>\n",
              "    </tr>\n",
              "    <tr>\n",
              "      <th>4</th>\n",
              "      <td>12350</td>\n",
              "      <td>17</td>\n",
              "      <td>0</td>\n",
              "    </tr>\n",
              "  </tbody>\n",
              "</table>\n",
              "</div>"
            ],
            "text/plain": [
              "   CustomerID  Frequency  FrequencyCluster\n",
              "0       12346          1                 0\n",
              "1       12347        182                 0\n",
              "2       12348         31                 0\n",
              "3       12349         73                 0\n",
              "4       12350         17                 0"
            ]
          },
          "metadata": {
            "tags": []
          },
          "execution_count": 268
        }
      ]
    },
    {
      "cell_type": "code",
      "metadata": {
        "id": "hCaYVfSt5DDO",
        "outputId": "4abe9eb5-7905-4be5-cce1-a1f16be1e896",
        "colab": {
          "base_uri": "https://localhost:8080/",
          "height": 34
        }
      },
      "source": [
        "silhouette_score(preprocessed_data, labels_f)"
      ],
      "execution_count": 269,
      "outputs": [
        {
          "output_type": "execute_result",
          "data": {
            "text/plain": [
              "0.8172792903095373"
            ]
          },
          "metadata": {
            "tags": []
          },
          "execution_count": 269
        }
      ]
    },
    {
      "cell_type": "code",
      "metadata": {
        "id": "6pIVoVL2DEpo",
        "outputId": "d51acfa8-f8bd-419d-deb3-44c81a1fc297",
        "colab": {
          "base_uri": "https://localhost:8080/",
          "height": 166
        }
      },
      "source": [
        "rfm_f.groupby('FrequencyCluster')['Frequency'].describe()"
      ],
      "execution_count": 270,
      "outputs": [
        {
          "output_type": "execute_result",
          "data": {
            "text/html": [
              "<div>\n",
              "<style scoped>\n",
              "    .dataframe tbody tr th:only-of-type {\n",
              "        vertical-align: middle;\n",
              "    }\n",
              "\n",
              "    .dataframe tbody tr th {\n",
              "        vertical-align: top;\n",
              "    }\n",
              "\n",
              "    .dataframe thead th {\n",
              "        text-align: right;\n",
              "    }\n",
              "</style>\n",
              "<table border=\"1\" class=\"dataframe\">\n",
              "  <thead>\n",
              "    <tr style=\"text-align: right;\">\n",
              "      <th></th>\n",
              "      <th>count</th>\n",
              "      <th>mean</th>\n",
              "      <th>std</th>\n",
              "      <th>min</th>\n",
              "      <th>25%</th>\n",
              "      <th>50%</th>\n",
              "      <th>75%</th>\n",
              "      <th>max</th>\n",
              "    </tr>\n",
              "    <tr>\n",
              "      <th>FrequencyCluster</th>\n",
              "      <th></th>\n",
              "      <th></th>\n",
              "      <th></th>\n",
              "      <th></th>\n",
              "      <th></th>\n",
              "      <th></th>\n",
              "      <th></th>\n",
              "      <th></th>\n",
              "    </tr>\n",
              "  </thead>\n",
              "  <tbody>\n",
              "    <tr>\n",
              "      <th>0</th>\n",
              "      <td>4072.0</td>\n",
              "      <td>59.639244</td>\n",
              "      <td>60.203016</td>\n",
              "      <td>1.0</td>\n",
              "      <td>16.00</td>\n",
              "      <td>37.0</td>\n",
              "      <td>85.00</td>\n",
              "      <td>281.0</td>\n",
              "    </tr>\n",
              "    <tr>\n",
              "      <th>1</th>\n",
              "      <td>4.0</td>\n",
              "      <td>5807.000000</td>\n",
              "      <td>1429.730044</td>\n",
              "      <td>4595.0</td>\n",
              "      <td>4982.00</td>\n",
              "      <td>5393.0</td>\n",
              "      <td>6218.00</td>\n",
              "      <td>7847.0</td>\n",
              "    </tr>\n",
              "    <tr>\n",
              "      <th>2</th>\n",
              "      <td>262.0</td>\n",
              "      <td>503.072519</td>\n",
              "      <td>321.281281</td>\n",
              "      <td>282.0</td>\n",
              "      <td>327.25</td>\n",
              "      <td>405.5</td>\n",
              "      <td>540.25</td>\n",
              "      <td>2700.0</td>\n",
              "    </tr>\n",
              "  </tbody>\n",
              "</table>\n",
              "</div>"
            ],
            "text/plain": [
              "                   count         mean          std  ...     50%      75%     max\n",
              "FrequencyCluster                                    ...                         \n",
              "0                 4072.0    59.639244    60.203016  ...    37.0    85.00   281.0\n",
              "1                    4.0  5807.000000  1429.730044  ...  5393.0  6218.00  7847.0\n",
              "2                  262.0   503.072519   321.281281  ...   405.5   540.25  2700.0\n",
              "\n",
              "[3 rows x 8 columns]"
            ]
          },
          "metadata": {
            "tags": []
          },
          "execution_count": 270
        }
      ]
    },
    {
      "cell_type": "code",
      "metadata": {
        "id": "6UB68f6VDEwI",
        "outputId": "52653ff7-96ca-474d-bc05-447a5bc8b92f",
        "colab": {
          "base_uri": "https://localhost:8080/",
          "height": 195
        }
      },
      "source": [
        "rfm_f = cluster_order('FrequencyCluster', 'Frequency',rfm_f,True)\n",
        "rfm_f.head()"
      ],
      "execution_count": 271,
      "outputs": [
        {
          "output_type": "execute_result",
          "data": {
            "text/html": [
              "<div>\n",
              "<style scoped>\n",
              "    .dataframe tbody tr th:only-of-type {\n",
              "        vertical-align: middle;\n",
              "    }\n",
              "\n",
              "    .dataframe tbody tr th {\n",
              "        vertical-align: top;\n",
              "    }\n",
              "\n",
              "    .dataframe thead th {\n",
              "        text-align: right;\n",
              "    }\n",
              "</style>\n",
              "<table border=\"1\" class=\"dataframe\">\n",
              "  <thead>\n",
              "    <tr style=\"text-align: right;\">\n",
              "      <th></th>\n",
              "      <th>CustomerID</th>\n",
              "      <th>Frequency</th>\n",
              "      <th>FrequencyCluster</th>\n",
              "    </tr>\n",
              "  </thead>\n",
              "  <tbody>\n",
              "    <tr>\n",
              "      <th>0</th>\n",
              "      <td>12346</td>\n",
              "      <td>1</td>\n",
              "      <td>0</td>\n",
              "    </tr>\n",
              "    <tr>\n",
              "      <th>1</th>\n",
              "      <td>12347</td>\n",
              "      <td>182</td>\n",
              "      <td>0</td>\n",
              "    </tr>\n",
              "    <tr>\n",
              "      <th>2</th>\n",
              "      <td>12348</td>\n",
              "      <td>31</td>\n",
              "      <td>0</td>\n",
              "    </tr>\n",
              "    <tr>\n",
              "      <th>3</th>\n",
              "      <td>12349</td>\n",
              "      <td>73</td>\n",
              "      <td>0</td>\n",
              "    </tr>\n",
              "    <tr>\n",
              "      <th>4</th>\n",
              "      <td>12350</td>\n",
              "      <td>17</td>\n",
              "      <td>0</td>\n",
              "    </tr>\n",
              "  </tbody>\n",
              "</table>\n",
              "</div>"
            ],
            "text/plain": [
              "   CustomerID  Frequency  FrequencyCluster\n",
              "0       12346          1                 0\n",
              "1       12347        182                 0\n",
              "2       12348         31                 0\n",
              "3       12349         73                 0\n",
              "4       12350         17                 0"
            ]
          },
          "metadata": {
            "tags": []
          },
          "execution_count": 271
        }
      ]
    },
    {
      "cell_type": "code",
      "metadata": {
        "id": "ebntPr3Mnu9d",
        "outputId": "e16ada9a-c867-421f-e5ae-207c1486f836",
        "colab": {
          "base_uri": "https://localhost:8080/",
          "height": 166
        }
      },
      "source": [
        "rfm_f.groupby('FrequencyCluster')['Frequency'].describe()"
      ],
      "execution_count": 272,
      "outputs": [
        {
          "output_type": "execute_result",
          "data": {
            "text/html": [
              "<div>\n",
              "<style scoped>\n",
              "    .dataframe tbody tr th:only-of-type {\n",
              "        vertical-align: middle;\n",
              "    }\n",
              "\n",
              "    .dataframe tbody tr th {\n",
              "        vertical-align: top;\n",
              "    }\n",
              "\n",
              "    .dataframe thead th {\n",
              "        text-align: right;\n",
              "    }\n",
              "</style>\n",
              "<table border=\"1\" class=\"dataframe\">\n",
              "  <thead>\n",
              "    <tr style=\"text-align: right;\">\n",
              "      <th></th>\n",
              "      <th>count</th>\n",
              "      <th>mean</th>\n",
              "      <th>std</th>\n",
              "      <th>min</th>\n",
              "      <th>25%</th>\n",
              "      <th>50%</th>\n",
              "      <th>75%</th>\n",
              "      <th>max</th>\n",
              "    </tr>\n",
              "    <tr>\n",
              "      <th>FrequencyCluster</th>\n",
              "      <th></th>\n",
              "      <th></th>\n",
              "      <th></th>\n",
              "      <th></th>\n",
              "      <th></th>\n",
              "      <th></th>\n",
              "      <th></th>\n",
              "      <th></th>\n",
              "    </tr>\n",
              "  </thead>\n",
              "  <tbody>\n",
              "    <tr>\n",
              "      <th>0</th>\n",
              "      <td>4072.0</td>\n",
              "      <td>59.639244</td>\n",
              "      <td>60.203016</td>\n",
              "      <td>1.0</td>\n",
              "      <td>16.00</td>\n",
              "      <td>37.0</td>\n",
              "      <td>85.00</td>\n",
              "      <td>281.0</td>\n",
              "    </tr>\n",
              "    <tr>\n",
              "      <th>1</th>\n",
              "      <td>262.0</td>\n",
              "      <td>503.072519</td>\n",
              "      <td>321.281281</td>\n",
              "      <td>282.0</td>\n",
              "      <td>327.25</td>\n",
              "      <td>405.5</td>\n",
              "      <td>540.25</td>\n",
              "      <td>2700.0</td>\n",
              "    </tr>\n",
              "    <tr>\n",
              "      <th>2</th>\n",
              "      <td>4.0</td>\n",
              "      <td>5807.000000</td>\n",
              "      <td>1429.730044</td>\n",
              "      <td>4595.0</td>\n",
              "      <td>4982.00</td>\n",
              "      <td>5393.0</td>\n",
              "      <td>6218.00</td>\n",
              "      <td>7847.0</td>\n",
              "    </tr>\n",
              "  </tbody>\n",
              "</table>\n",
              "</div>"
            ],
            "text/plain": [
              "                   count         mean          std  ...     50%      75%     max\n",
              "FrequencyCluster                                    ...                         \n",
              "0                 4072.0    59.639244    60.203016  ...    37.0    85.00   281.0\n",
              "1                  262.0   503.072519   321.281281  ...   405.5   540.25  2700.0\n",
              "2                    4.0  5807.000000  1429.730044  ...  5393.0  6218.00  7847.0\n",
              "\n",
              "[3 rows x 8 columns]"
            ]
          },
          "metadata": {
            "tags": []
          },
          "execution_count": 272
        }
      ]
    },
    {
      "cell_type": "markdown",
      "metadata": {
        "id": "R-ou0cKji7jx"
      },
      "source": [
        "**MONETARY : TOTAL AMOUNT OF TRANSACTIONS**"
      ]
    },
    {
      "cell_type": "code",
      "metadata": {
        "id": "x1pwoU55it9B",
        "outputId": "9760209c-ace5-4d7c-e6c3-ede5f153c524",
        "colab": {
          "base_uri": "https://localhost:8080/",
          "height": 195
        }
      },
      "source": [
        "df['Monetary'] = df['Quantity']*df['UnitPrice']\n",
        "rfm_m = df.groupby('CustomerID')['Monetary'].sum()\n",
        "rfm_m = rfm_m.reset_index()\n",
        "rfm_m.head()"
      ],
      "execution_count": 273,
      "outputs": [
        {
          "output_type": "execute_result",
          "data": {
            "text/html": [
              "<div>\n",
              "<style scoped>\n",
              "    .dataframe tbody tr th:only-of-type {\n",
              "        vertical-align: middle;\n",
              "    }\n",
              "\n",
              "    .dataframe tbody tr th {\n",
              "        vertical-align: top;\n",
              "    }\n",
              "\n",
              "    .dataframe thead th {\n",
              "        text-align: right;\n",
              "    }\n",
              "</style>\n",
              "<table border=\"1\" class=\"dataframe\">\n",
              "  <thead>\n",
              "    <tr style=\"text-align: right;\">\n",
              "      <th></th>\n",
              "      <th>CustomerID</th>\n",
              "      <th>Monetary</th>\n",
              "    </tr>\n",
              "  </thead>\n",
              "  <tbody>\n",
              "    <tr>\n",
              "      <th>0</th>\n",
              "      <td>12346</td>\n",
              "      <td>77183.60</td>\n",
              "    </tr>\n",
              "    <tr>\n",
              "      <th>1</th>\n",
              "      <td>12347</td>\n",
              "      <td>4310.00</td>\n",
              "    </tr>\n",
              "    <tr>\n",
              "      <th>2</th>\n",
              "      <td>12348</td>\n",
              "      <td>1797.24</td>\n",
              "    </tr>\n",
              "    <tr>\n",
              "      <th>3</th>\n",
              "      <td>12349</td>\n",
              "      <td>1757.55</td>\n",
              "    </tr>\n",
              "    <tr>\n",
              "      <th>4</th>\n",
              "      <td>12350</td>\n",
              "      <td>334.40</td>\n",
              "    </tr>\n",
              "  </tbody>\n",
              "</table>\n",
              "</div>"
            ],
            "text/plain": [
              "   CustomerID  Monetary\n",
              "0       12346  77183.60\n",
              "1       12347   4310.00\n",
              "2       12348   1797.24\n",
              "3       12349   1757.55\n",
              "4       12350    334.40"
            ]
          },
          "metadata": {
            "tags": []
          },
          "execution_count": 273
        }
      ]
    },
    {
      "cell_type": "code",
      "metadata": {
        "id": "8UWgcwiXjcPS",
        "outputId": "8454162a-9bdc-420d-d422-09e6edee9e3e",
        "colab": {
          "base_uri": "https://localhost:8080/",
          "height": 350
        }
      },
      "source": [
        "sns.distplot(rfm_m['Monetary'], kde=False, bins=50)\n",
        "plt.title('Monetary Value Distribution', fontsize = 15)\n",
        "plt.xlabel('Monetary')\n",
        "plt.ylabel('Count');"
      ],
      "execution_count": 274,
      "outputs": [
        {
          "output_type": "stream",
          "text": [
            "/usr/local/lib/python3.6/dist-packages/seaborn/distributions.py:2551: FutureWarning: `distplot` is a deprecated function and will be removed in a future version. Please adapt your code to use either `displot` (a figure-level function with similar flexibility) or `histplot` (an axes-level function for histograms).\n",
            "  warnings.warn(msg, FutureWarning)\n"
          ],
          "name": "stderr"
        },
        {
          "output_type": "display_data",
          "data": {
            "image/png": "[encoded data removed]",
            "text/plain": [
              "<Figure size 432x288 with 1 Axes>"
            ]
          },
          "metadata": {
            "tags": [],
            "needs_background": "light"
          }
        }
      ]
    },
    {
      "cell_type": "code",
      "metadata": {
        "id": "hyvxG3QGJpDl",
        "outputId": "1b3c83c1-9cdc-4b1f-ae33-f133887c56b1",
        "colab": {
          "base_uri": "https://localhost:8080/",
          "height": 319
        }
      },
      "source": [
        "pipe.fit(rfm_m[['Monetary']])"
      ],
      "execution_count": 275,
      "outputs": [
        {
          "output_type": "execute_result",
          "data": {
            "text/plain": [
              "Pipeline(memory=None,\n",
              "         steps=[('preprocessor',\n",
              "                 Pipeline(memory=None,\n",
              "                          steps=[('scaler',\n",
              "                                  MinMaxScaler(copy=True,\n",
              "                                               feature_range=(0, 1)))],\n",
              "                          verbose=False)),\n",
              "                ('clusterer',\n",
              "                 Pipeline(memory=None,\n",
              "                          steps=[('kmeans',\n",
              "                                  KMeans(algorithm='auto', copy_x=True,\n",
              "                                         init='k-means++', max_iter=300,\n",
              "                                         n_clusters=3, n_init=10, n_jobs=None,\n",
              "                                         precompute_distances='auto',\n",
              "                                         random_state=42, tol=0.0001,\n",
              "                                         verbose=0))],\n",
              "                          verbose=False))],\n",
              "         verbose=False)"
            ]
          },
          "metadata": {
            "tags": []
          },
          "execution_count": 275
        }
      ]
    },
    {
      "cell_type": "code",
      "metadata": {
        "id": "SJvu6IesJpNg",
        "outputId": "bca7a484-9539-44dc-8f72-c5f95c223dfc",
        "colab": {
          "base_uri": "https://localhost:8080/",
          "height": 195
        }
      },
      "source": [
        "preprocessed_data = pipe[\"preprocessor\"].transform(rfm_m[['Monetary']])\n",
        "labels_m = pipe[\"clusterer\"][\"kmeans\"].labels_\n",
        "rfm_m[\"MonetaryCluster\"] = labels_m\n",
        "rfm_m.head()"
      ],
      "execution_count": 276,
      "outputs": [
        {
          "output_type": "execute_result",
          "data": {
            "text/html": [
              "<div>\n",
              "<style scoped>\n",
              "    .dataframe tbody tr th:only-of-type {\n",
              "        vertical-align: middle;\n",
              "    }\n",
              "\n",
              "    .dataframe tbody tr th {\n",
              "        vertical-align: top;\n",
              "    }\n",
              "\n",
              "    .dataframe thead th {\n",
              "        text-align: right;\n",
              "    }\n",
              "</style>\n",
              "<table border=\"1\" class=\"dataframe\">\n",
              "  <thead>\n",
              "    <tr style=\"text-align: right;\">\n",
              "      <th></th>\n",
              "      <th>CustomerID</th>\n",
              "      <th>Monetary</th>\n",
              "      <th>MonetaryCluster</th>\n",
              "    </tr>\n",
              "  </thead>\n",
              "  <tbody>\n",
              "    <tr>\n",
              "      <th>0</th>\n",
              "      <td>12346</td>\n",
              "      <td>77183.60</td>\n",
              "      <td>2</td>\n",
              "    </tr>\n",
              "    <tr>\n",
              "      <th>1</th>\n",
              "      <td>12347</td>\n",
              "      <td>4310.00</td>\n",
              "      <td>0</td>\n",
              "    </tr>\n",
              "    <tr>\n",
              "      <th>2</th>\n",
              "      <td>12348</td>\n",
              "      <td>1797.24</td>\n",
              "      <td>0</td>\n",
              "    </tr>\n",
              "    <tr>\n",
              "      <th>3</th>\n",
              "      <td>12349</td>\n",
              "      <td>1757.55</td>\n",
              "      <td>0</td>\n",
              "    </tr>\n",
              "    <tr>\n",
              "      <th>4</th>\n",
              "      <td>12350</td>\n",
              "      <td>334.40</td>\n",
              "      <td>0</td>\n",
              "    </tr>\n",
              "  </tbody>\n",
              "</table>\n",
              "</div>"
            ],
            "text/plain": [
              "   CustomerID  Monetary  MonetaryCluster\n",
              "0       12346  77183.60                2\n",
              "1       12347   4310.00                0\n",
              "2       12348   1797.24                0\n",
              "3       12349   1757.55                0\n",
              "4       12350    334.40                0"
            ]
          },
          "metadata": {
            "tags": []
          },
          "execution_count": 276
        }
      ]
    },
    {
      "cell_type": "code",
      "metadata": {
        "id": "xVqMmgXR5aV1",
        "outputId": "b2a5e0b6-e2ef-49de-9509-33c27ecc4155",
        "colab": {
          "base_uri": "https://localhost:8080/",
          "height": 34
        }
      },
      "source": [
        "silhouette_score(preprocessed_data, labels_m)"
      ],
      "execution_count": 277,
      "outputs": [
        {
          "output_type": "execute_result",
          "data": {
            "text/plain": [
              "0.9615878134391025"
            ]
          },
          "metadata": {
            "tags": []
          },
          "execution_count": 277
        }
      ]
    },
    {
      "cell_type": "code",
      "metadata": {
        "id": "1RaQbkgRJpXQ",
        "outputId": "1def9429-a832-44e3-cc03-c4cfbdca3486",
        "colab": {
          "base_uri": "https://localhost:8080/",
          "height": 166
        }
      },
      "source": [
        "rfm_m.groupby('MonetaryCluster')['Monetary'].describe()"
      ],
      "execution_count": 278,
      "outputs": [
        {
          "output_type": "execute_result",
          "data": {
            "text/html": [
              "<div>\n",
              "<style scoped>\n",
              "    .dataframe tbody tr th:only-of-type {\n",
              "        vertical-align: middle;\n",
              "    }\n",
              "\n",
              "    .dataframe tbody tr th {\n",
              "        vertical-align: top;\n",
              "    }\n",
              "\n",
              "    .dataframe thead th {\n",
              "        text-align: right;\n",
              "    }\n",
              "</style>\n",
              "<table border=\"1\" class=\"dataframe\">\n",
              "  <thead>\n",
              "    <tr style=\"text-align: right;\">\n",
              "      <th></th>\n",
              "      <th>count</th>\n",
              "      <th>mean</th>\n",
              "      <th>std</th>\n",
              "      <th>min</th>\n",
              "      <th>25%</th>\n",
              "      <th>50%</th>\n",
              "      <th>75%</th>\n",
              "      <th>max</th>\n",
              "    </tr>\n",
              "    <tr>\n",
              "      <th>MonetaryCluster</th>\n",
              "      <th></th>\n",
              "      <th></th>\n",
              "      <th></th>\n",
              "      <th></th>\n",
              "      <th></th>\n",
              "      <th></th>\n",
              "      <th></th>\n",
              "      <th></th>\n",
              "    </tr>\n",
              "  </thead>\n",
              "  <tbody>\n",
              "    <tr>\n",
              "      <th>0</th>\n",
              "      <td>4307.0</td>\n",
              "      <td>1480.796985</td>\n",
              "      <td>2463.849989</td>\n",
              "      <td>3.75</td>\n",
              "      <td>306.5050</td>\n",
              "      <td>665.86</td>\n",
              "      <td>1624.6300</td>\n",
              "      <td>28882.44</td>\n",
              "    </tr>\n",
              "    <tr>\n",
              "      <th>1</th>\n",
              "      <td>5.0</td>\n",
              "      <td>209342.334000</td>\n",
              "      <td>58598.003581</td>\n",
              "      <td>143825.06</td>\n",
              "      <td>168472.5000</td>\n",
              "      <td>194550.79</td>\n",
              "      <td>259657.3000</td>\n",
              "      <td>280206.02</td>\n",
              "    </tr>\n",
              "    <tr>\n",
              "      <th>2</th>\n",
              "      <td>26.0</td>\n",
              "      <td>57188.600769</td>\n",
              "      <td>24729.928330</td>\n",
              "      <td>31833.68</td>\n",
              "      <td>37844.5125</td>\n",
              "      <td>53030.72</td>\n",
              "      <td>65133.4975</td>\n",
              "      <td>124914.53</td>\n",
              "    </tr>\n",
              "  </tbody>\n",
              "</table>\n",
              "</div>"
            ],
            "text/plain": [
              "                  count           mean  ...          75%        max\n",
              "MonetaryCluster                         ...                        \n",
              "0                4307.0    1480.796985  ...    1624.6300   28882.44\n",
              "1                   5.0  209342.334000  ...  259657.3000  280206.02\n",
              "2                  26.0   57188.600769  ...   65133.4975  124914.53\n",
              "\n",
              "[3 rows x 8 columns]"
            ]
          },
          "metadata": {
            "tags": []
          },
          "execution_count": 278
        }
      ]
    },
    {
      "cell_type": "code",
      "metadata": {
        "id": "wWsdU6QYKQl-",
        "outputId": "56e79650-d2ac-4a6c-d907-f3eb354075e8",
        "colab": {
          "base_uri": "https://localhost:8080/",
          "height": 195
        }
      },
      "source": [
        "rfm_m = cluster_order('MonetaryCluster', 'Monetary',rfm_m,True)\n",
        "rfm_m.head()"
      ],
      "execution_count": 279,
      "outputs": [
        {
          "output_type": "execute_result",
          "data": {
            "text/html": [
              "<div>\n",
              "<style scoped>\n",
              "    .dataframe tbody tr th:only-of-type {\n",
              "        vertical-align: middle;\n",
              "    }\n",
              "\n",
              "    .dataframe tbody tr th {\n",
              "        vertical-align: top;\n",
              "    }\n",
              "\n",
              "    .dataframe thead th {\n",
              "        text-align: right;\n",
              "    }\n",
              "</style>\n",
              "<table border=\"1\" class=\"dataframe\">\n",
              "  <thead>\n",
              "    <tr style=\"text-align: right;\">\n",
              "      <th></th>\n",
              "      <th>CustomerID</th>\n",
              "      <th>Monetary</th>\n",
              "      <th>MonetaryCluster</th>\n",
              "    </tr>\n",
              "  </thead>\n",
              "  <tbody>\n",
              "    <tr>\n",
              "      <th>0</th>\n",
              "      <td>12346</td>\n",
              "      <td>77183.60</td>\n",
              "      <td>1</td>\n",
              "    </tr>\n",
              "    <tr>\n",
              "      <th>1</th>\n",
              "      <td>12415</td>\n",
              "      <td>124914.53</td>\n",
              "      <td>1</td>\n",
              "    </tr>\n",
              "    <tr>\n",
              "      <th>2</th>\n",
              "      <td>12748</td>\n",
              "      <td>33719.73</td>\n",
              "      <td>1</td>\n",
              "    </tr>\n",
              "    <tr>\n",
              "      <th>3</th>\n",
              "      <td>12931</td>\n",
              "      <td>42055.96</td>\n",
              "      <td>1</td>\n",
              "    </tr>\n",
              "    <tr>\n",
              "      <th>4</th>\n",
              "      <td>13089</td>\n",
              "      <td>58825.83</td>\n",
              "      <td>1</td>\n",
              "    </tr>\n",
              "  </tbody>\n",
              "</table>\n",
              "</div>"
            ],
            "text/plain": [
              "   CustomerID   Monetary  MonetaryCluster\n",
              "0       12346   77183.60                1\n",
              "1       12415  124914.53                1\n",
              "2       12748   33719.73                1\n",
              "3       12931   42055.96                1\n",
              "4       13089   58825.83                1"
            ]
          },
          "metadata": {
            "tags": []
          },
          "execution_count": 279
        }
      ]
    },
    {
      "cell_type": "code",
      "metadata": {
        "id": "hlyvosybnzoe",
        "outputId": "ba96c649-4d71-4443-dda1-de458c3caef6",
        "colab": {
          "base_uri": "https://localhost:8080/",
          "height": 166
        }
      },
      "source": [
        "rfm_m.groupby('MonetaryCluster')['Monetary'].describe()"
      ],
      "execution_count": 280,
      "outputs": [
        {
          "output_type": "execute_result",
          "data": {
            "text/html": [
              "<div>\n",
              "<style scoped>\n",
              "    .dataframe tbody tr th:only-of-type {\n",
              "        vertical-align: middle;\n",
              "    }\n",
              "\n",
              "    .dataframe tbody tr th {\n",
              "        vertical-align: top;\n",
              "    }\n",
              "\n",
              "    .dataframe thead th {\n",
              "        text-align: right;\n",
              "    }\n",
              "</style>\n",
              "<table border=\"1\" class=\"dataframe\">\n",
              "  <thead>\n",
              "    <tr style=\"text-align: right;\">\n",
              "      <th></th>\n",
              "      <th>count</th>\n",
              "      <th>mean</th>\n",
              "      <th>std</th>\n",
              "      <th>min</th>\n",
              "      <th>25%</th>\n",
              "      <th>50%</th>\n",
              "      <th>75%</th>\n",
              "      <th>max</th>\n",
              "    </tr>\n",
              "    <tr>\n",
              "      <th>MonetaryCluster</th>\n",
              "      <th></th>\n",
              "      <th></th>\n",
              "      <th></th>\n",
              "      <th></th>\n",
              "      <th></th>\n",
              "      <th></th>\n",
              "      <th></th>\n",
              "      <th></th>\n",
              "    </tr>\n",
              "  </thead>\n",
              "  <tbody>\n",
              "    <tr>\n",
              "      <th>0</th>\n",
              "      <td>4307.0</td>\n",
              "      <td>1480.796985</td>\n",
              "      <td>2463.849989</td>\n",
              "      <td>3.75</td>\n",
              "      <td>306.5050</td>\n",
              "      <td>665.86</td>\n",
              "      <td>1624.6300</td>\n",
              "      <td>28882.44</td>\n",
              "    </tr>\n",
              "    <tr>\n",
              "      <th>1</th>\n",
              "      <td>26.0</td>\n",
              "      <td>57188.600769</td>\n",
              "      <td>24729.928330</td>\n",
              "      <td>31833.68</td>\n",
              "      <td>37844.5125</td>\n",
              "      <td>53030.72</td>\n",
              "      <td>65133.4975</td>\n",
              "      <td>124914.53</td>\n",
              "    </tr>\n",
              "    <tr>\n",
              "      <th>2</th>\n",
              "      <td>5.0</td>\n",
              "      <td>209342.334000</td>\n",
              "      <td>58598.003581</td>\n",
              "      <td>143825.06</td>\n",
              "      <td>168472.5000</td>\n",
              "      <td>194550.79</td>\n",
              "      <td>259657.3000</td>\n",
              "      <td>280206.02</td>\n",
              "    </tr>\n",
              "  </tbody>\n",
              "</table>\n",
              "</div>"
            ],
            "text/plain": [
              "                  count           mean  ...          75%        max\n",
              "MonetaryCluster                         ...                        \n",
              "0                4307.0    1480.796985  ...    1624.6300   28882.44\n",
              "1                  26.0   57188.600769  ...   65133.4975  124914.53\n",
              "2                   5.0  209342.334000  ...  259657.3000  280206.02\n",
              "\n",
              "[3 rows x 8 columns]"
            ]
          },
          "metadata": {
            "tags": []
          },
          "execution_count": 280
        }
      ]
    },
    {
      "cell_type": "markdown",
      "metadata": {
        "id": "BGDhcErVjWGs"
      },
      "source": [
        "**MERGE RFM FACTORS**"
      ]
    },
    {
      "cell_type": "code",
      "metadata": {
        "id": "7ohHlSO2jIFL",
        "outputId": "96a1585b-0aef-4f0a-dc34-c5ab9ff4fac1",
        "colab": {
          "base_uri": "https://localhost:8080/",
          "height": 195
        }
      },
      "source": [
        "rfm = pd.merge(pd.merge(rfm_r, rfm_f, on='CustomerID'), rfm_m, on='CustomerID')\n",
        "rfm.columns = ['CustomerID', 'Recency', 'RecencyCluster', 'Frequency', 'FrequencyCluster', 'Monetary', 'MonetaryCluster']\n",
        "rfm.head()"
      ],
      "execution_count": 281,
      "outputs": [
        {
          "output_type": "execute_result",
          "data": {
            "text/html": [
              "<div>\n",
              "<style scoped>\n",
              "    .dataframe tbody tr th:only-of-type {\n",
              "        vertical-align: middle;\n",
              "    }\n",
              "\n",
              "    .dataframe tbody tr th {\n",
              "        vertical-align: top;\n",
              "    }\n",
              "\n",
              "    .dataframe thead th {\n",
              "        text-align: right;\n",
              "    }\n",
              "</style>\n",
              "<table border=\"1\" class=\"dataframe\">\n",
              "  <thead>\n",
              "    <tr style=\"text-align: right;\">\n",
              "      <th></th>\n",
              "      <th>CustomerID</th>\n",
              "      <th>Recency</th>\n",
              "      <th>RecencyCluster</th>\n",
              "      <th>Frequency</th>\n",
              "      <th>FrequencyCluster</th>\n",
              "      <th>Monetary</th>\n",
              "      <th>MonetaryCluster</th>\n",
              "    </tr>\n",
              "  </thead>\n",
              "  <tbody>\n",
              "    <tr>\n",
              "      <th>0</th>\n",
              "      <td>12346</td>\n",
              "      <td>325</td>\n",
              "      <td>0</td>\n",
              "      <td>1</td>\n",
              "      <td>0</td>\n",
              "      <td>77183.60</td>\n",
              "      <td>1</td>\n",
              "    </tr>\n",
              "    <tr>\n",
              "      <th>1</th>\n",
              "      <td>12350</td>\n",
              "      <td>309</td>\n",
              "      <td>0</td>\n",
              "      <td>17</td>\n",
              "      <td>0</td>\n",
              "      <td>334.40</td>\n",
              "      <td>0</td>\n",
              "    </tr>\n",
              "    <tr>\n",
              "      <th>2</th>\n",
              "      <td>12354</td>\n",
              "      <td>231</td>\n",
              "      <td>0</td>\n",
              "      <td>58</td>\n",
              "      <td>0</td>\n",
              "      <td>1079.40</td>\n",
              "      <td>0</td>\n",
              "    </tr>\n",
              "    <tr>\n",
              "      <th>3</th>\n",
              "      <td>12361</td>\n",
              "      <td>286</td>\n",
              "      <td>0</td>\n",
              "      <td>10</td>\n",
              "      <td>0</td>\n",
              "      <td>189.90</td>\n",
              "      <td>0</td>\n",
              "    </tr>\n",
              "    <tr>\n",
              "      <th>4</th>\n",
              "      <td>12365</td>\n",
              "      <td>290</td>\n",
              "      <td>0</td>\n",
              "      <td>22</td>\n",
              "      <td>0</td>\n",
              "      <td>641.38</td>\n",
              "      <td>0</td>\n",
              "    </tr>\n",
              "  </tbody>\n",
              "</table>\n",
              "</div>"
            ],
            "text/plain": [
              "   CustomerID  Recency  ...  Monetary  MonetaryCluster\n",
              "0       12346      325  ...  77183.60                1\n",
              "1       12350      309  ...    334.40                0\n",
              "2       12354      231  ...   1079.40                0\n",
              "3       12361      286  ...    189.90                0\n",
              "4       12365      290  ...    641.38                0\n",
              "\n",
              "[5 rows x 7 columns]"
            ]
          },
          "metadata": {
            "tags": []
          },
          "execution_count": 281
        }
      ]
    },
    {
      "cell_type": "markdown",
      "metadata": {
        "id": "84Mpxte6qkUW"
      },
      "source": [
        "**CALCULATE RFM SCORE**\n",
        "* Recency : the **higher** the Recency value, the **higher** the score.\n",
        "* Frequency : the **higher** the Frequency value, the **higher** the score.\n",
        "* Monetary : the **higher** the Monetary value, the **higher** the score."
      ]
    },
    {
      "cell_type": "code",
      "metadata": {
        "id": "GkNU8Xs0qRio",
        "outputId": "9e467539-2da6-467d-e9f2-842978c33ab0",
        "colab": {
          "base_uri": "https://localhost:8080/",
          "height": 195
        }
      },
      "source": [
        "rfm['RFMScore'] = rfm['RecencyCluster'] + rfm['FrequencyCluster'] + rfm['MonetaryCluster']\n",
        "rfm.head()"
      ],
      "execution_count": 282,
      "outputs": [
        {
          "output_type": "execute_result",
          "data": {
            "text/html": [
              "<div>\n",
              "<style scoped>\n",
              "    .dataframe tbody tr th:only-of-type {\n",
              "        vertical-align: middle;\n",
              "    }\n",
              "\n",
              "    .dataframe tbody tr th {\n",
              "        vertical-align: top;\n",
              "    }\n",
              "\n",
              "    .dataframe thead th {\n",
              "        text-align: right;\n",
              "    }\n",
              "</style>\n",
              "<table border=\"1\" class=\"dataframe\">\n",
              "  <thead>\n",
              "    <tr style=\"text-align: right;\">\n",
              "      <th></th>\n",
              "      <th>CustomerID</th>\n",
              "      <th>Recency</th>\n",
              "      <th>RecencyCluster</th>\n",
              "      <th>Frequency</th>\n",
              "      <th>FrequencyCluster</th>\n",
              "      <th>Monetary</th>\n",
              "      <th>MonetaryCluster</th>\n",
              "      <th>RFMScore</th>\n",
              "    </tr>\n",
              "  </thead>\n",
              "  <tbody>\n",
              "    <tr>\n",
              "      <th>0</th>\n",
              "      <td>12346</td>\n",
              "      <td>325</td>\n",
              "      <td>0</td>\n",
              "      <td>1</td>\n",
              "      <td>0</td>\n",
              "      <td>77183.60</td>\n",
              "      <td>1</td>\n",
              "      <td>1</td>\n",
              "    </tr>\n",
              "    <tr>\n",
              "      <th>1</th>\n",
              "      <td>12350</td>\n",
              "      <td>309</td>\n",
              "      <td>0</td>\n",
              "      <td>17</td>\n",
              "      <td>0</td>\n",
              "      <td>334.40</td>\n",
              "      <td>0</td>\n",
              "      <td>0</td>\n",
              "    </tr>\n",
              "    <tr>\n",
              "      <th>2</th>\n",
              "      <td>12354</td>\n",
              "      <td>231</td>\n",
              "      <td>0</td>\n",
              "      <td>58</td>\n",
              "      <td>0</td>\n",
              "      <td>1079.40</td>\n",
              "      <td>0</td>\n",
              "      <td>0</td>\n",
              "    </tr>\n",
              "    <tr>\n",
              "      <th>3</th>\n",
              "      <td>12361</td>\n",
              "      <td>286</td>\n",
              "      <td>0</td>\n",
              "      <td>10</td>\n",
              "      <td>0</td>\n",
              "      <td>189.90</td>\n",
              "      <td>0</td>\n",
              "      <td>0</td>\n",
              "    </tr>\n",
              "    <tr>\n",
              "      <th>4</th>\n",
              "      <td>12365</td>\n",
              "      <td>290</td>\n",
              "      <td>0</td>\n",
              "      <td>22</td>\n",
              "      <td>0</td>\n",
              "      <td>641.38</td>\n",
              "      <td>0</td>\n",
              "      <td>0</td>\n",
              "    </tr>\n",
              "  </tbody>\n",
              "</table>\n",
              "</div>"
            ],
            "text/plain": [
              "   CustomerID  Recency  RecencyCluster  ...  Monetary  MonetaryCluster  RFMScore\n",
              "0       12346      325               0  ...  77183.60                1         1\n",
              "1       12350      309               0  ...    334.40                0         0\n",
              "2       12354      231               0  ...   1079.40                0         0\n",
              "3       12361      286               0  ...    189.90                0         0\n",
              "4       12365      290               0  ...    641.38                0         0\n",
              "\n",
              "[5 rows x 8 columns]"
            ]
          },
          "metadata": {
            "tags": []
          },
          "execution_count": 282
        }
      ]
    },
    {
      "cell_type": "code",
      "metadata": {
        "id": "2-lZDkV0rrC5",
        "outputId": "3078290b-be03-4e84-f2a2-0bd6ec03cf89",
        "colab": {
          "base_uri": "https://localhost:8080/",
          "height": 34
        }
      },
      "source": [
        "rfm['RFMScore'].unique()"
      ],
      "execution_count": 283,
      "outputs": [
        {
          "output_type": "execute_result",
          "data": {
            "text/plain": [
              "array([1, 0, 2, 4, 3, 5, 6])"
            ]
          },
          "metadata": {
            "tags": []
          },
          "execution_count": 283
        }
      ]
    },
    {
      "cell_type": "code",
      "metadata": {
        "id": "jQBx7NNkrs7D",
        "outputId": "5e2a87fe-de5e-444b-fc21-2fc939025500",
        "colab": {
          "base_uri": "https://localhost:8080/",
          "height": 195
        }
      },
      "source": [
        "rfm['Membership'] = 'Bronze' \n",
        "rfm.loc[rfm['MonetaryCluster'] > 0, 'Membership'] = 'Silver' \n",
        "rfm.loc[rfm['MonetaryCluster'] > 1, 'Membership'] = 'Gold'\n",
        "rfm.head()"
      ],
      "execution_count": 284,
      "outputs": [
        {
          "output_type": "execute_result",
          "data": {
            "text/html": [
              "<div>\n",
              "<style scoped>\n",
              "    .dataframe tbody tr th:only-of-type {\n",
              "        vertical-align: middle;\n",
              "    }\n",
              "\n",
              "    .dataframe tbody tr th {\n",
              "        vertical-align: top;\n",
              "    }\n",
              "\n",
              "    .dataframe thead th {\n",
              "        text-align: right;\n",
              "    }\n",
              "</style>\n",
              "<table border=\"1\" class=\"dataframe\">\n",
              "  <thead>\n",
              "    <tr style=\"text-align: right;\">\n",
              "      <th></th>\n",
              "      <th>CustomerID</th>\n",
              "      <th>Recency</th>\n",
              "      <th>RecencyCluster</th>\n",
              "      <th>Frequency</th>\n",
              "      <th>FrequencyCluster</th>\n",
              "      <th>Monetary</th>\n",
              "      <th>MonetaryCluster</th>\n",
              "      <th>RFMScore</th>\n",
              "      <th>Membership</th>\n",
              "    </tr>\n",
              "  </thead>\n",
              "  <tbody>\n",
              "    <tr>\n",
              "      <th>0</th>\n",
              "      <td>12346</td>\n",
              "      <td>325</td>\n",
              "      <td>0</td>\n",
              "      <td>1</td>\n",
              "      <td>0</td>\n",
              "      <td>77183.60</td>\n",
              "      <td>1</td>\n",
              "      <td>1</td>\n",
              "      <td>Silver</td>\n",
              "    </tr>\n",
              "    <tr>\n",
              "      <th>1</th>\n",
              "      <td>12350</td>\n",
              "      <td>309</td>\n",
              "      <td>0</td>\n",
              "      <td>17</td>\n",
              "      <td>0</td>\n",
              "      <td>334.40</td>\n",
              "      <td>0</td>\n",
              "      <td>0</td>\n",
              "      <td>Bronze</td>\n",
              "    </tr>\n",
              "    <tr>\n",
              "      <th>2</th>\n",
              "      <td>12354</td>\n",
              "      <td>231</td>\n",
              "      <td>0</td>\n",
              "      <td>58</td>\n",
              "      <td>0</td>\n",
              "      <td>1079.40</td>\n",
              "      <td>0</td>\n",
              "      <td>0</td>\n",
              "      <td>Bronze</td>\n",
              "    </tr>\n",
              "    <tr>\n",
              "      <th>3</th>\n",
              "      <td>12361</td>\n",
              "      <td>286</td>\n",
              "      <td>0</td>\n",
              "      <td>10</td>\n",
              "      <td>0</td>\n",
              "      <td>189.90</td>\n",
              "      <td>0</td>\n",
              "      <td>0</td>\n",
              "      <td>Bronze</td>\n",
              "    </tr>\n",
              "    <tr>\n",
              "      <th>4</th>\n",
              "      <td>12365</td>\n",
              "      <td>290</td>\n",
              "      <td>0</td>\n",
              "      <td>22</td>\n",
              "      <td>0</td>\n",
              "      <td>641.38</td>\n",
              "      <td>0</td>\n",
              "      <td>0</td>\n",
              "      <td>Bronze</td>\n",
              "    </tr>\n",
              "  </tbody>\n",
              "</table>\n",
              "</div>"
            ],
            "text/plain": [
              "   CustomerID  Recency  RecencyCluster  ...  MonetaryCluster  RFMScore  Membership\n",
              "0       12346      325               0  ...                1         1      Silver\n",
              "1       12350      309               0  ...                0         0      Bronze\n",
              "2       12354      231               0  ...                0         0      Bronze\n",
              "3       12361      286               0  ...                0         0      Bronze\n",
              "4       12365      290               0  ...                0         0      Bronze\n",
              "\n",
              "[5 rows x 9 columns]"
            ]
          },
          "metadata": {
            "tags": []
          },
          "execution_count": 284
        }
      ]
    },
    {
      "cell_type": "code",
      "metadata": {
        "id": "IQC8rZphMn3u",
        "outputId": "41793c42-fd97-4f9c-c4fc-7c7684f059e0",
        "colab": {
          "base_uri": "https://localhost:8080/",
          "height": 298
        }
      },
      "source": [
        "barplot = dict(rfm['Membership'].value_counts())\n",
        "bar_names = list(barplot.keys())\n",
        "bar_values = list(barplot.values())\n",
        "plt.bar(bar_names,bar_values)\n",
        "print(pd.DataFrame(barplot, index=[' ']))"
      ],
      "execution_count": 285,
      "outputs": [
        {
          "output_type": "stream",
          "text": [
            "   Bronze  Silver  Gold\n",
            "     4307      26     5\n"
          ],
          "name": "stdout"
        },
        {
          "output_type": "display_data",
          "data": {
            "image/png": "[encoded data removed]",
            "text/plain": [
              "<Figure size 432x288 with 1 Axes>"
            ]
          },
          "metadata": {
            "tags": [],
            "needs_background": "light"
          }
        }
      ]
    },
    {
      "cell_type": "markdown",
      "metadata": {
        "id": "NpoRDooD53IM"
      },
      "source": [
        "# **Conclusion**"
      ]
    },
    {
      "cell_type": "markdown",
      "metadata": {
        "id": "d3cMG2FZ5-cB"
      },
      "source": [
        "**1. Core - Your Best Customers**\n",
        "* RFM Score : 222\n",
        "* Who They Are : Highly engaged customers who have bought the most recent, the most often, and generated the most revenue."
      ]
    },
    {
      "cell_type": "code",
      "metadata": {
        "id": "kseMfPgt11tT",
        "outputId": "9f636a68-e01b-480c-8d52-0335bfa575af",
        "colab": {
          "base_uri": "https://localhost:8080/",
          "height": 77
        }
      },
      "source": [
        "core_cust = rfm[rfm['RFMScore'] == 6].sort_values('CustomerID', ascending=True)\n",
        "core_cust.head()"
      ],
      "execution_count": 286,
      "outputs": [
        {
          "output_type": "execute_result",
          "data": {
            "text/html": [
              "<div>\n",
              "<style scoped>\n",
              "    .dataframe tbody tr th:only-of-type {\n",
              "        vertical-align: middle;\n",
              "    }\n",
              "\n",
              "    .dataframe tbody tr th {\n",
              "        vertical-align: top;\n",
              "    }\n",
              "\n",
              "    .dataframe thead th {\n",
              "        text-align: right;\n",
              "    }\n",
              "</style>\n",
              "<table border=\"1\" class=\"dataframe\">\n",
              "  <thead>\n",
              "    <tr style=\"text-align: right;\">\n",
              "      <th></th>\n",
              "      <th>CustomerID</th>\n",
              "      <th>Recency</th>\n",
              "      <th>RecencyCluster</th>\n",
              "      <th>Frequency</th>\n",
              "      <th>FrequencyCluster</th>\n",
              "      <th>Monetary</th>\n",
              "      <th>MonetaryCluster</th>\n",
              "      <th>RFMScore</th>\n",
              "      <th>Membership</th>\n",
              "    </tr>\n",
              "  </thead>\n",
              "  <tbody>\n",
              "    <tr>\n",
              "      <th>1894</th>\n",
              "      <td>14911</td>\n",
              "      <td>0</td>\n",
              "      <td>2</td>\n",
              "      <td>5675</td>\n",
              "      <td>2</td>\n",
              "      <td>143825.06</td>\n",
              "      <td>2</td>\n",
              "      <td>6</td>\n",
              "      <td>Gold</td>\n",
              "    </tr>\n",
              "  </tbody>\n",
              "</table>\n",
              "</div>"
            ],
            "text/plain": [
              "      CustomerID  Recency  RecencyCluster  ...  MonetaryCluster  RFMScore  Membership\n",
              "1894       14911        0               2  ...                2         6        Gold\n",
              "\n",
              "[1 rows x 9 columns]"
            ]
          },
          "metadata": {
            "tags": []
          },
          "execution_count": 286
        }
      ]
    },
    {
      "cell_type": "code",
      "metadata": {
        "id": "wcPUw1cvD7S8",
        "outputId": "02d9ca78-fc60-4957-b718-193d40d924be",
        "colab": {
          "base_uri": "https://localhost:8080/",
          "height": 34
        }
      },
      "source": [
        "core_cust['CustomerID'].count()"
      ],
      "execution_count": 287,
      "outputs": [
        {
          "output_type": "execute_result",
          "data": {
            "text/plain": [
              "1"
            ]
          },
          "metadata": {
            "tags": []
          },
          "execution_count": 287
        }
      ]
    },
    {
      "cell_type": "markdown",
      "metadata": {
        "id": "NC2V6DhsEX-W"
      },
      "source": [
        "**2. Loyal - Your Most Loyal Customers**\n",
        "* RFM Score : X2X\n",
        "* Who They Are : Customers who buy the most often from your store."
      ]
    },
    {
      "cell_type": "code",
      "metadata": {
        "id": "Jzktki3WEN0n",
        "outputId": "9e147d5e-cdf0-4f85-bb10-c0af135e5e77",
        "colab": {
          "base_uri": "https://localhost:8080/",
          "height": 166
        }
      },
      "source": [
        "loyal_cust = rfm[rfm['FrequencyCluster'] == 2].sort_values('Frequency', ascending=False)\n",
        "loyal_cust.head()"
      ],
      "execution_count": 288,
      "outputs": [
        {
          "output_type": "execute_result",
          "data": {
            "text/html": [
              "<div>\n",
              "<style scoped>\n",
              "    .dataframe tbody tr th:only-of-type {\n",
              "        vertical-align: middle;\n",
              "    }\n",
              "\n",
              "    .dataframe tbody tr th {\n",
              "        vertical-align: top;\n",
              "    }\n",
              "\n",
              "    .dataframe thead th {\n",
              "        text-align: right;\n",
              "    }\n",
              "</style>\n",
              "<table border=\"1\" class=\"dataframe\">\n",
              "  <thead>\n",
              "    <tr style=\"text-align: right;\">\n",
              "      <th></th>\n",
              "      <th>CustomerID</th>\n",
              "      <th>Recency</th>\n",
              "      <th>RecencyCluster</th>\n",
              "      <th>Frequency</th>\n",
              "      <th>FrequencyCluster</th>\n",
              "      <th>Monetary</th>\n",
              "      <th>MonetaryCluster</th>\n",
              "      <th>RFMScore</th>\n",
              "      <th>Membership</th>\n",
              "    </tr>\n",
              "  </thead>\n",
              "  <tbody>\n",
              "    <tr>\n",
              "      <th>3333</th>\n",
              "      <td>17841</td>\n",
              "      <td>1</td>\n",
              "      <td>2</td>\n",
              "      <td>7847</td>\n",
              "      <td>2</td>\n",
              "      <td>40991.57</td>\n",
              "      <td>1</td>\n",
              "      <td>5</td>\n",
              "      <td>Silver</td>\n",
              "    </tr>\n",
              "    <tr>\n",
              "      <th>1894</th>\n",
              "      <td>14911</td>\n",
              "      <td>0</td>\n",
              "      <td>2</td>\n",
              "      <td>5675</td>\n",
              "      <td>2</td>\n",
              "      <td>143825.06</td>\n",
              "      <td>2</td>\n",
              "      <td>6</td>\n",
              "      <td>Gold</td>\n",
              "    </tr>\n",
              "    <tr>\n",
              "      <th>1491</th>\n",
              "      <td>14096</td>\n",
              "      <td>3</td>\n",
              "      <td>2</td>\n",
              "      <td>5111</td>\n",
              "      <td>2</td>\n",
              "      <td>65164.79</td>\n",
              "      <td>1</td>\n",
              "      <td>5</td>\n",
              "      <td>Silver</td>\n",
              "    </tr>\n",
              "    <tr>\n",
              "      <th>858</th>\n",
              "      <td>12748</td>\n",
              "      <td>0</td>\n",
              "      <td>2</td>\n",
              "      <td>4595</td>\n",
              "      <td>2</td>\n",
              "      <td>33719.73</td>\n",
              "      <td>1</td>\n",
              "      <td>5</td>\n",
              "      <td>Silver</td>\n",
              "    </tr>\n",
              "  </tbody>\n",
              "</table>\n",
              "</div>"
            ],
            "text/plain": [
              "      CustomerID  Recency  RecencyCluster  ...  MonetaryCluster  RFMScore  Membership\n",
              "3333       17841        1               2  ...                1         5      Silver\n",
              "1894       14911        0               2  ...                2         6        Gold\n",
              "1491       14096        3               2  ...                1         5      Silver\n",
              "858        12748        0               2  ...                1         5      Silver\n",
              "\n",
              "[4 rows x 9 columns]"
            ]
          },
          "metadata": {
            "tags": []
          },
          "execution_count": 288
        }
      ]
    },
    {
      "cell_type": "code",
      "metadata": {
        "id": "SbfMWk4SE6_N",
        "outputId": "c7ae0662-81ce-411b-af0f-50532ea94892",
        "colab": {
          "base_uri": "https://localhost:8080/",
          "height": 34
        }
      },
      "source": [
        "loyal_cust['CustomerID'].count()"
      ],
      "execution_count": 289,
      "outputs": [
        {
          "output_type": "execute_result",
          "data": {
            "text/plain": [
              "4"
            ]
          },
          "metadata": {
            "tags": []
          },
          "execution_count": 289
        }
      ]
    },
    {
      "cell_type": "code",
      "metadata": {
        "id": "DNU56yea-mga",
        "outputId": "11ccb0b7-4e7b-4162-a220-8c1ea47adf8b",
        "colab": {
          "base_uri": "https://localhost:8080/",
          "height": 314
        }
      },
      "source": [
        "loyal_cust.plot.bar(x='CustomerID', y='Frequency', rot=0)\n",
        "plt.title('Most Loyal Customer', size=15)"
      ],
      "execution_count": 290,
      "outputs": [
        {
          "output_type": "execute_result",
          "data": {
            "text/plain": [
              "Text(0.5, 1.0, 'Most Loyal Customer')"
            ]
          },
          "metadata": {
            "tags": []
          },
          "execution_count": 290
        },
        {
          "output_type": "display_data",
          "data": {
            "image/png": "[encoded data removed]",
            "text/plain": [
              "<Figure size 432x288 with 1 Axes>"
            ]
          },
          "metadata": {
            "tags": [],
            "needs_background": "light"
          }
        }
      ]
    },
    {
      "cell_type": "code",
      "metadata": {
        "id": "lRhAftCivjDK",
        "outputId": "07e38982-f391-481e-ef9e-c3bee3d73069",
        "colab": {
          "base_uri": "https://localhost:8080/",
          "height": 314
        }
      },
      "source": [
        "loyal_cust.plot.bar(x='Membership', y='Frequency', rot=0)\n",
        "plt.title('Most Loyal Customer', size=15)"
      ],
      "execution_count": 291,
      "outputs": [
        {
          "output_type": "execute_result",
          "data": {
            "text/plain": [
              "Text(0.5, 1.0, 'Most Loyal Customer')"
            ]
          },
          "metadata": {
            "tags": []
          },
          "execution_count": 291
        },
        {
          "output_type": "display_data",
          "data": {
            "image/png": "[encoded data removed]",
            "text/plain": [
              "<Figure size 432x288 with 1 Axes>"
            ]
          },
          "metadata": {
            "tags": [],
            "needs_background": "light"
          }
        }
      ]
    },
    {
      "cell_type": "markdown",
      "metadata": {
        "id": "xcDuf5ykF7Ca"
      },
      "source": [
        "**3. Whales - Your Highest Paying Customers**\n",
        "* RFM Score : XX2\n",
        "* Who They Are : Customers who have generated the most revenue for your store."
      ]
    },
    {
      "cell_type": "code",
      "metadata": {
        "id": "xcD3h2wkE-NE",
        "outputId": "f44e9873-42ef-4813-b402-28df96d5b779",
        "colab": {
          "base_uri": "https://localhost:8080/",
          "height": 195
        }
      },
      "source": [
        "whales_cust = rfm[rfm['MonetaryCluster'] == 2].sort_values('Monetary', ascending=False)\n",
        "whales_cust.head()"
      ],
      "execution_count": 292,
      "outputs": [
        {
          "output_type": "execute_result",
          "data": {
            "text/html": [
              "<div>\n",
              "<style scoped>\n",
              "    .dataframe tbody tr th:only-of-type {\n",
              "        vertical-align: middle;\n",
              "    }\n",
              "\n",
              "    .dataframe tbody tr th {\n",
              "        vertical-align: top;\n",
              "    }\n",
              "\n",
              "    .dataframe thead th {\n",
              "        text-align: right;\n",
              "    }\n",
              "</style>\n",
              "<table border=\"1\" class=\"dataframe\">\n",
              "  <thead>\n",
              "    <tr style=\"text-align: right;\">\n",
              "      <th></th>\n",
              "      <th>CustomerID</th>\n",
              "      <th>Recency</th>\n",
              "      <th>RecencyCluster</th>\n",
              "      <th>Frequency</th>\n",
              "      <th>FrequencyCluster</th>\n",
              "      <th>Monetary</th>\n",
              "      <th>MonetaryCluster</th>\n",
              "      <th>RFMScore</th>\n",
              "      <th>Membership</th>\n",
              "    </tr>\n",
              "  </thead>\n",
              "  <tbody>\n",
              "    <tr>\n",
              "      <th>1755</th>\n",
              "      <td>14646</td>\n",
              "      <td>1</td>\n",
              "      <td>2</td>\n",
              "      <td>2076</td>\n",
              "      <td>1</td>\n",
              "      <td>280206.02</td>\n",
              "      <td>2</td>\n",
              "      <td>5</td>\n",
              "      <td>Gold</td>\n",
              "    </tr>\n",
              "    <tr>\n",
              "      <th>3441</th>\n",
              "      <td>18102</td>\n",
              "      <td>0</td>\n",
              "      <td>2</td>\n",
              "      <td>431</td>\n",
              "      <td>1</td>\n",
              "      <td>259657.30</td>\n",
              "      <td>2</td>\n",
              "      <td>5</td>\n",
              "      <td>Gold</td>\n",
              "    </tr>\n",
              "    <tr>\n",
              "      <th>3137</th>\n",
              "      <td>17450</td>\n",
              "      <td>7</td>\n",
              "      <td>2</td>\n",
              "      <td>337</td>\n",
              "      <td>1</td>\n",
              "      <td>194550.79</td>\n",
              "      <td>2</td>\n",
              "      <td>5</td>\n",
              "      <td>Gold</td>\n",
              "    </tr>\n",
              "    <tr>\n",
              "      <th>2646</th>\n",
              "      <td>16446</td>\n",
              "      <td>0</td>\n",
              "      <td>2</td>\n",
              "      <td>3</td>\n",
              "      <td>0</td>\n",
              "      <td>168472.50</td>\n",
              "      <td>2</td>\n",
              "      <td>4</td>\n",
              "      <td>Gold</td>\n",
              "    </tr>\n",
              "    <tr>\n",
              "      <th>1894</th>\n",
              "      <td>14911</td>\n",
              "      <td>0</td>\n",
              "      <td>2</td>\n",
              "      <td>5675</td>\n",
              "      <td>2</td>\n",
              "      <td>143825.06</td>\n",
              "      <td>2</td>\n",
              "      <td>6</td>\n",
              "      <td>Gold</td>\n",
              "    </tr>\n",
              "  </tbody>\n",
              "</table>\n",
              "</div>"
            ],
            "text/plain": [
              "      CustomerID  Recency  RecencyCluster  ...  MonetaryCluster  RFMScore  Membership\n",
              "1755       14646        1               2  ...                2         5        Gold\n",
              "3441       18102        0               2  ...                2         5        Gold\n",
              "3137       17450        7               2  ...                2         5        Gold\n",
              "2646       16446        0               2  ...                2         4        Gold\n",
              "1894       14911        0               2  ...                2         6        Gold\n",
              "\n",
              "[5 rows x 9 columns]"
            ]
          },
          "metadata": {
            "tags": []
          },
          "execution_count": 292
        }
      ]
    },
    {
      "cell_type": "code",
      "metadata": {
        "id": "CloLfCrdGGwW",
        "outputId": "6ef32f5c-16a6-4387-9184-6497c7a46940",
        "colab": {
          "base_uri": "https://localhost:8080/",
          "height": 34
        }
      },
      "source": [
        "whales_cust['CustomerID'].count()"
      ],
      "execution_count": 293,
      "outputs": [
        {
          "output_type": "execute_result",
          "data": {
            "text/plain": [
              "5"
            ]
          },
          "metadata": {
            "tags": []
          },
          "execution_count": 293
        }
      ]
    },
    {
      "cell_type": "code",
      "metadata": {
        "id": "q3PnLaRkAdds",
        "outputId": "78e6ab78-8dca-4057-b5f4-f39ed6a90c28",
        "colab": {
          "base_uri": "https://localhost:8080/",
          "height": 314
        }
      },
      "source": [
        "whales_cust.plot.bar(x='CustomerID', y='Monetary', rot=0)\n",
        "plt.title('Highest Paying Customer', size=15)"
      ],
      "execution_count": 294,
      "outputs": [
        {
          "output_type": "execute_result",
          "data": {
            "text/plain": [
              "Text(0.5, 1.0, 'Highest Paying Customer')"
            ]
          },
          "metadata": {
            "tags": []
          },
          "execution_count": 294
        },
        {
          "output_type": "display_data",
          "data": {
            "image/png": "[encoded data removed]",
            "text/plain": [
              "<Figure size 432x288 with 1 Axes>"
            ]
          },
          "metadata": {
            "tags": [],
            "needs_background": "light"
          }
        }
      ]
    },
    {
      "cell_type": "code",
      "metadata": {
        "id": "TnKx8d-VwJHj",
        "outputId": "ea878cfb-27e3-4e3c-b3a8-e6a4ee84bedc",
        "colab": {
          "base_uri": "https://localhost:8080/",
          "height": 314
        }
      },
      "source": [
        "whales_cust.plot.bar(x='Membership', y='Monetary', rot=0)\n",
        "plt.title('Highest Paying Customer', size=15)"
      ],
      "execution_count": 295,
      "outputs": [
        {
          "output_type": "execute_result",
          "data": {
            "text/plain": [
              "Text(0.5, 1.0, 'Highest Paying Customer')"
            ]
          },
          "metadata": {
            "tags": []
          },
          "execution_count": 295
        },
        {
          "output_type": "display_data",
          "data": {
            "image/png": "[encoded data removed]",
            "text/plain": [
              "<Figure size 432x288 with 1 Axes>"
            ]
          },
          "metadata": {
            "tags": [],
            "needs_background": "light"
          }
        }
      ]
    },
    {
      "cell_type": "markdown",
      "metadata": {
        "id": "9TNr4AgsG3sJ"
      },
      "source": [
        "**4. Rookies - Your Newest Customers**\n",
        "* RFM Score : 20X\n",
        "* Who They Are : First time buyers on your site."
      ]
    },
    {
      "cell_type": "code",
      "metadata": {
        "id": "emo8CXvxGJIo",
        "outputId": "a3b2b59a-3139-4503-e1c6-0391dd1985be",
        "colab": {
          "base_uri": "https://localhost:8080/",
          "height": 195
        }
      },
      "source": [
        "rookies_cust = rfm[(rfm['RecencyCluster'] == 2) & (rfm['FrequencyCluster'] == 0)].sort_values('Monetary', ascending=False)\n",
        "rookies_cust.head()"
      ],
      "execution_count": 296,
      "outputs": [
        {
          "output_type": "execute_result",
          "data": {
            "text/html": [
              "<div>\n",
              "<style scoped>\n",
              "    .dataframe tbody tr th:only-of-type {\n",
              "        vertical-align: middle;\n",
              "    }\n",
              "\n",
              "    .dataframe tbody tr th {\n",
              "        vertical-align: top;\n",
              "    }\n",
              "\n",
              "    .dataframe thead th {\n",
              "        text-align: right;\n",
              "    }\n",
              "</style>\n",
              "<table border=\"1\" class=\"dataframe\">\n",
              "  <thead>\n",
              "    <tr style=\"text-align: right;\">\n",
              "      <th></th>\n",
              "      <th>CustomerID</th>\n",
              "      <th>Recency</th>\n",
              "      <th>RecencyCluster</th>\n",
              "      <th>Frequency</th>\n",
              "      <th>FrequencyCluster</th>\n",
              "      <th>Monetary</th>\n",
              "      <th>MonetaryCluster</th>\n",
              "      <th>RFMScore</th>\n",
              "      <th>Membership</th>\n",
              "    </tr>\n",
              "  </thead>\n",
              "  <tbody>\n",
              "    <tr>\n",
              "      <th>2646</th>\n",
              "      <td>16446</td>\n",
              "      <td>0</td>\n",
              "      <td>2</td>\n",
              "      <td>3</td>\n",
              "      <td>0</td>\n",
              "      <td>168472.50</td>\n",
              "      <td>2</td>\n",
              "      <td>4</td>\n",
              "      <td>Gold</td>\n",
              "    </tr>\n",
              "    <tr>\n",
              "      <th>2440</th>\n",
              "      <td>16029</td>\n",
              "      <td>38</td>\n",
              "      <td>2</td>\n",
              "      <td>242</td>\n",
              "      <td>0</td>\n",
              "      <td>81024.84</td>\n",
              "      <td>1</td>\n",
              "      <td>3</td>\n",
              "      <td>Silver</td>\n",
              "    </tr>\n",
              "    <tr>\n",
              "      <th>2760</th>\n",
              "      <td>16684</td>\n",
              "      <td>3</td>\n",
              "      <td>2</td>\n",
              "      <td>277</td>\n",
              "      <td>0</td>\n",
              "      <td>66653.56</td>\n",
              "      <td>1</td>\n",
              "      <td>3</td>\n",
              "      <td>Silver</td>\n",
              "    </tr>\n",
              "    <tr>\n",
              "      <th>3379</th>\n",
              "      <td>17949</td>\n",
              "      <td>0</td>\n",
              "      <td>2</td>\n",
              "      <td>70</td>\n",
              "      <td>0</td>\n",
              "      <td>58510.48</td>\n",
              "      <td>1</td>\n",
              "      <td>3</td>\n",
              "      <td>Silver</td>\n",
              "    </tr>\n",
              "    <tr>\n",
              "      <th>2309</th>\n",
              "      <td>15769</td>\n",
              "      <td>6</td>\n",
              "      <td>2</td>\n",
              "      <td>130</td>\n",
              "      <td>0</td>\n",
              "      <td>56252.72</td>\n",
              "      <td>1</td>\n",
              "      <td>3</td>\n",
              "      <td>Silver</td>\n",
              "    </tr>\n",
              "  </tbody>\n",
              "</table>\n",
              "</div>"
            ],
            "text/plain": [
              "      CustomerID  Recency  RecencyCluster  ...  MonetaryCluster  RFMScore  Membership\n",
              "2646       16446        0               2  ...                2         4        Gold\n",
              "2440       16029       38               2  ...                1         3      Silver\n",
              "2760       16684        3               2  ...                1         3      Silver\n",
              "3379       17949        0               2  ...                1         3      Silver\n",
              "2309       15769        6               2  ...                1         3      Silver\n",
              "\n",
              "[5 rows x 9 columns]"
            ]
          },
          "metadata": {
            "tags": []
          },
          "execution_count": 296
        }
      ]
    },
    {
      "cell_type": "code",
      "metadata": {
        "id": "hBzaE5YPHRSV",
        "outputId": "61f4d1c3-a634-4ba2-ca1a-96e2114a1e7a",
        "colab": {
          "base_uri": "https://localhost:8080/",
          "height": 34
        }
      },
      "source": [
        "rookies_cust['CustomerID'].count()"
      ],
      "execution_count": 297,
      "outputs": [
        {
          "output_type": "execute_result",
          "data": {
            "text/plain": [
              "2645"
            ]
          },
          "metadata": {
            "tags": []
          },
          "execution_count": 297
        }
      ]
    },
    {
      "cell_type": "code",
      "metadata": {
        "id": "ezhB80K9BJM2",
        "outputId": "b7a19a0c-8cf2-4450-e2ae-f3c0504b996b",
        "colab": {
          "base_uri": "https://localhost:8080/",
          "height": 314
        }
      },
      "source": [
        "rookies_cust.head(5).plot.bar(x='CustomerID', y='Monetary', rot=0)\n",
        "plt.title('Top 5 Newest Customer', size=15)"
      ],
      "execution_count": 298,
      "outputs": [
        {
          "output_type": "execute_result",
          "data": {
            "text/plain": [
              "Text(0.5, 1.0, 'Top 5 Newest Customer')"
            ]
          },
          "metadata": {
            "tags": []
          },
          "execution_count": 298
        },
        {
          "output_type": "display_data",
          "data": {
            "image/png": "[encoded data removed]",
            "text/plain": [
              "<Figure size 432x288 with 1 Axes>"
            ]
          },
          "metadata": {
            "tags": [],
            "needs_background": "light"
          }
        }
      ]
    },
    {
      "cell_type": "code",
      "metadata": {
        "id": "wDKBZphBwhJ-",
        "outputId": "f653b23a-fffa-401e-efbc-2701a05c538d",
        "colab": {
          "base_uri": "https://localhost:8080/",
          "height": 314
        }
      },
      "source": [
        "rookies_cust.head(5).plot.bar(x='Membership', y='Monetary', rot=0)\n",
        "plt.title('Top 5 Newest Customer', size=15)"
      ],
      "execution_count": 299,
      "outputs": [
        {
          "output_type": "execute_result",
          "data": {
            "text/plain": [
              "Text(0.5, 1.0, 'Top 5 Newest Customer')"
            ]
          },
          "metadata": {
            "tags": []
          },
          "execution_count": 299
        },
        {
          "output_type": "display_data",
          "data": {
            "image/png": "[encoded data removed]",
            "text/plain": [
              "<Figure size 432x288 with 1 Axes>"
            ]
          },
          "metadata": {
            "tags": [],
            "needs_background": "light"
          }
        }
      ]
    },
    {
      "cell_type": "markdown",
      "metadata": {
        "id": "IYePeBwiM45B"
      },
      "source": [
        "**5. Slipping - Once Loyal, Now Gone**\n",
        "* RFM Score : 00X\n",
        "* Who They Are : Great past customers who haven't bought in awhile."
      ]
    },
    {
      "cell_type": "code",
      "metadata": {
        "id": "zGn6JtTiM8Vp",
        "outputId": "67e3289e-13d5-4c84-8cdd-b5deb92e878e",
        "colab": {
          "base_uri": "https://localhost:8080/",
          "height": 195
        }
      },
      "source": [
        "slip_cust = rfm[(rfm['RecencyCluster'] == 0) & (rfm['FrequencyCluster'] == 0)].sort_values('Monetary', ascending=False)\n",
        "slip_cust.head()"
      ],
      "execution_count": 300,
      "outputs": [
        {
          "output_type": "execute_result",
          "data": {
            "text/html": [
              "<div>\n",
              "<style scoped>\n",
              "    .dataframe tbody tr th:only-of-type {\n",
              "        vertical-align: middle;\n",
              "    }\n",
              "\n",
              "    .dataframe tbody tr th {\n",
              "        vertical-align: top;\n",
              "    }\n",
              "\n",
              "    .dataframe thead th {\n",
              "        text-align: right;\n",
              "    }\n",
              "</style>\n",
              "<table border=\"1\" class=\"dataframe\">\n",
              "  <thead>\n",
              "    <tr style=\"text-align: right;\">\n",
              "      <th></th>\n",
              "      <th>CustomerID</th>\n",
              "      <th>Recency</th>\n",
              "      <th>RecencyCluster</th>\n",
              "      <th>Frequency</th>\n",
              "      <th>FrequencyCluster</th>\n",
              "      <th>Monetary</th>\n",
              "      <th>MonetaryCluster</th>\n",
              "      <th>RFMScore</th>\n",
              "      <th>Membership</th>\n",
              "    </tr>\n",
              "  </thead>\n",
              "  <tbody>\n",
              "    <tr>\n",
              "      <th>0</th>\n",
              "      <td>12346</td>\n",
              "      <td>325</td>\n",
              "      <td>0</td>\n",
              "      <td>1</td>\n",
              "      <td>0</td>\n",
              "      <td>77183.60</td>\n",
              "      <td>1</td>\n",
              "      <td>1</td>\n",
              "      <td>Silver</td>\n",
              "    </tr>\n",
              "    <tr>\n",
              "      <th>363</th>\n",
              "      <td>15749</td>\n",
              "      <td>234</td>\n",
              "      <td>0</td>\n",
              "      <td>10</td>\n",
              "      <td>0</td>\n",
              "      <td>44534.30</td>\n",
              "      <td>1</td>\n",
              "      <td>1</td>\n",
              "      <td>Silver</td>\n",
              "    </tr>\n",
              "    <tr>\n",
              "      <th>86</th>\n",
              "      <td>13093</td>\n",
              "      <td>275</td>\n",
              "      <td>0</td>\n",
              "      <td>159</td>\n",
              "      <td>0</td>\n",
              "      <td>7832.47</td>\n",
              "      <td>0</td>\n",
              "      <td>0</td>\n",
              "      <td>Bronze</td>\n",
              "    </tr>\n",
              "    <tr>\n",
              "      <th>272</th>\n",
              "      <td>15032</td>\n",
              "      <td>255</td>\n",
              "      <td>0</td>\n",
              "      <td>52</td>\n",
              "      <td>0</td>\n",
              "      <td>4959.10</td>\n",
              "      <td>0</td>\n",
              "      <td>0</td>\n",
              "      <td>Bronze</td>\n",
              "    </tr>\n",
              "    <tr>\n",
              "      <th>47</th>\n",
              "      <td>12755</td>\n",
              "      <td>280</td>\n",
              "      <td>0</td>\n",
              "      <td>4</td>\n",
              "      <td>0</td>\n",
              "      <td>3811.95</td>\n",
              "      <td>0</td>\n",
              "      <td>0</td>\n",
              "      <td>Bronze</td>\n",
              "    </tr>\n",
              "  </tbody>\n",
              "</table>\n",
              "</div>"
            ],
            "text/plain": [
              "     CustomerID  Recency  RecencyCluster  ...  MonetaryCluster  RFMScore  Membership\n",
              "0         12346      325               0  ...                1         1      Silver\n",
              "363       15749      234               0  ...                1         1      Silver\n",
              "86        13093      275               0  ...                0         0      Bronze\n",
              "272       15032      255               0  ...                0         0      Bronze\n",
              "47        12755      280               0  ...                0         0      Bronze\n",
              "\n",
              "[5 rows x 9 columns]"
            ]
          },
          "metadata": {
            "tags": []
          },
          "execution_count": 300
        }
      ]
    },
    {
      "cell_type": "code",
      "metadata": {
        "id": "iaQKFinhNCAm",
        "outputId": "21e57b52-1b6f-4b64-a440-286e74ffd8fa",
        "colab": {
          "base_uri": "https://localhost:8080/",
          "height": 34
        }
      },
      "source": [
        "slip_cust['CustomerID'].count()"
      ],
      "execution_count": 301,
      "outputs": [
        {
          "output_type": "execute_result",
          "data": {
            "text/plain": [
              "625"
            ]
          },
          "metadata": {
            "tags": []
          },
          "execution_count": 301
        }
      ]
    },
    {
      "cell_type": "code",
      "metadata": {
        "id": "Wv00dG48CHbC",
        "outputId": "06308b6e-c59b-4c94-b656-2860e95cad95",
        "colab": {
          "base_uri": "https://localhost:8080/",
          "height": 314
        }
      },
      "source": [
        "slip_cust.head(5).plot.bar(x='CustomerID', y='Monetary', rot=0)\n",
        "plt.title('Top 5 Slipping Customer', size=15)"
      ],
      "execution_count": 302,
      "outputs": [
        {
          "output_type": "execute_result",
          "data": {
            "text/plain": [
              "Text(0.5, 1.0, 'Top 5 Slipping Customer')"
            ]
          },
          "metadata": {
            "tags": []
          },
          "execution_count": 302
        },
        {
          "output_type": "display_data",
          "data": {
            "image/png": "[encoded data removed]",
            "text/plain": [
              "<Figure size 432x288 with 1 Axes>"
            ]
          },
          "metadata": {
            "tags": [],
            "needs_background": "light"
          }
        }
      ]
    },
    {
      "cell_type": "code",
      "metadata": {
        "id": "nW7fi1lyzclb",
        "outputId": "14121425-4809-44cc-d6c6-d969459c4f86",
        "colab": {
          "base_uri": "https://localhost:8080/",
          "height": 314
        }
      },
      "source": [
        "slip_cust.head(5).plot.bar(x='Membership', y='Monetary', rot=0)\n",
        "plt.title('Top 5 Slipping Customer', size=15)"
      ],
      "execution_count": 303,
      "outputs": [
        {
          "output_type": "execute_result",
          "data": {
            "text/plain": [
              "Text(0.5, 1.0, 'Top 5 Slipping Customer')"
            ]
          },
          "metadata": {
            "tags": []
          },
          "execution_count": 303
        },
        {
          "output_type": "display_data",
          "data": {
            "image/png": "[encoded data removed]",
            "text/plain": [
              "<Figure size 432x288 with 1 Axes>"
            ]
          },
          "metadata": {
            "tags": [],
            "needs_background": "light"
          }
        }
      ]
    },
    {
      "cell_type": "markdown",
      "metadata": {
        "id": "gHgCw4dyHehJ"
      },
      "source": [
        "**6. Regular - The customers having common behaviour across these metrics.**\n",
        "* RFM Score: Remaining Scores\n",
        "* Who They Are: Customer who have average metrics across each RFM scores."
      ]
    },
    {
      "cell_type": "code",
      "metadata": {
        "id": "qsaDH3_nHaQr",
        "outputId": "cb02c0e1-cd1e-47f3-96d2-e439b6dda9bf",
        "colab": {
          "base_uri": "https://localhost:8080/",
          "height": 195
        }
      },
      "source": [
        "rfm['Status'] = 'Regular' \n",
        "rfm.loc[rfm['RFMScore'] == 6, 'Status'] = 'Core'\n",
        "rfm.loc[rfm['FrequencyCluster'] == 2, 'Status'] = 'Loyal'\n",
        "rfm.loc[rfm['MonetaryCluster'] == 2, 'Status'] = 'Whale'\n",
        "rfm.loc[((rfm['RecencyCluster'] == 2) & (rfm['FrequencyCluster'] == 0)), 'Status'] = 'Rookies'\n",
        "rfm.head()"
      ],
      "execution_count": 304,
      "outputs": [
        {
          "output_type": "execute_result",
          "data": {
            "text/html": [
              "<div>\n",
              "<style scoped>\n",
              "    .dataframe tbody tr th:only-of-type {\n",
              "        vertical-align: middle;\n",
              "    }\n",
              "\n",
              "    .dataframe tbody tr th {\n",
              "        vertical-align: top;\n",
              "    }\n",
              "\n",
              "    .dataframe thead th {\n",
              "        text-align: right;\n",
              "    }\n",
              "</style>\n",
              "<table border=\"1\" class=\"dataframe\">\n",
              "  <thead>\n",
              "    <tr style=\"text-align: right;\">\n",
              "      <th></th>\n",
              "      <th>CustomerID</th>\n",
              "      <th>Recency</th>\n",
              "      <th>RecencyCluster</th>\n",
              "      <th>Frequency</th>\n",
              "      <th>FrequencyCluster</th>\n",
              "      <th>Monetary</th>\n",
              "      <th>MonetaryCluster</th>\n",
              "      <th>RFMScore</th>\n",
              "      <th>Membership</th>\n",
              "      <th>Status</th>\n",
              "    </tr>\n",
              "  </thead>\n",
              "  <tbody>\n",
              "    <tr>\n",
              "      <th>0</th>\n",
              "      <td>12346</td>\n",
              "      <td>325</td>\n",
              "      <td>0</td>\n",
              "      <td>1</td>\n",
              "      <td>0</td>\n",
              "      <td>77183.60</td>\n",
              "      <td>1</td>\n",
              "      <td>1</td>\n",
              "      <td>Silver</td>\n",
              "      <td>Regular</td>\n",
              "    </tr>\n",
              "    <tr>\n",
              "      <th>1</th>\n",
              "      <td>12350</td>\n",
              "      <td>309</td>\n",
              "      <td>0</td>\n",
              "      <td>17</td>\n",
              "      <td>0</td>\n",
              "      <td>334.40</td>\n",
              "      <td>0</td>\n",
              "      <td>0</td>\n",
              "      <td>Bronze</td>\n",
              "      <td>Regular</td>\n",
              "    </tr>\n",
              "    <tr>\n",
              "      <th>2</th>\n",
              "      <td>12354</td>\n",
              "      <td>231</td>\n",
              "      <td>0</td>\n",
              "      <td>58</td>\n",
              "      <td>0</td>\n",
              "      <td>1079.40</td>\n",
              "      <td>0</td>\n",
              "      <td>0</td>\n",
              "      <td>Bronze</td>\n",
              "      <td>Regular</td>\n",
              "    </tr>\n",
              "    <tr>\n",
              "      <th>3</th>\n",
              "      <td>12361</td>\n",
              "      <td>286</td>\n",
              "      <td>0</td>\n",
              "      <td>10</td>\n",
              "      <td>0</td>\n",
              "      <td>189.90</td>\n",
              "      <td>0</td>\n",
              "      <td>0</td>\n",
              "      <td>Bronze</td>\n",
              "      <td>Regular</td>\n",
              "    </tr>\n",
              "    <tr>\n",
              "      <th>4</th>\n",
              "      <td>12365</td>\n",
              "      <td>290</td>\n",
              "      <td>0</td>\n",
              "      <td>22</td>\n",
              "      <td>0</td>\n",
              "      <td>641.38</td>\n",
              "      <td>0</td>\n",
              "      <td>0</td>\n",
              "      <td>Bronze</td>\n",
              "      <td>Regular</td>\n",
              "    </tr>\n",
              "  </tbody>\n",
              "</table>\n",
              "</div>"
            ],
            "text/plain": [
              "   CustomerID  Recency  RecencyCluster  ...  RFMScore  Membership   Status\n",
              "0       12346      325               0  ...         1      Silver  Regular\n",
              "1       12350      309               0  ...         0      Bronze  Regular\n",
              "2       12354      231               0  ...         0      Bronze  Regular\n",
              "3       12361      286               0  ...         0      Bronze  Regular\n",
              "4       12365      290               0  ...         0      Bronze  Regular\n",
              "\n",
              "[5 rows x 10 columns]"
            ]
          },
          "metadata": {
            "tags": []
          },
          "execution_count": 304
        }
      ]
    },
    {
      "cell_type": "code",
      "metadata": {
        "id": "f_xsBfwbKn4J",
        "outputId": "daf97a9a-a69f-42fd-b1b6-8b40857ee6e0",
        "colab": {
          "base_uri": "https://localhost:8080/",
          "height": 195
        }
      },
      "source": [
        "reg_cust = rfm[rfm['Status'].str.contains('Regular', regex=False)].sort_values('Monetary', ascending=False)\n",
        "reg_cust.head()"
      ],
      "execution_count": 305,
      "outputs": [
        {
          "output_type": "execute_result",
          "data": {
            "text/html": [
              "<div>\n",
              "<style scoped>\n",
              "    .dataframe tbody tr th:only-of-type {\n",
              "        vertical-align: middle;\n",
              "    }\n",
              "\n",
              "    .dataframe tbody tr th {\n",
              "        vertical-align: top;\n",
              "    }\n",
              "\n",
              "    .dataframe thead th {\n",
              "        text-align: right;\n",
              "    }\n",
              "</style>\n",
              "<table border=\"1\" class=\"dataframe\">\n",
              "  <thead>\n",
              "    <tr style=\"text-align: right;\">\n",
              "      <th></th>\n",
              "      <th>CustomerID</th>\n",
              "      <th>Recency</th>\n",
              "      <th>RecencyCluster</th>\n",
              "      <th>Frequency</th>\n",
              "      <th>FrequencyCluster</th>\n",
              "      <th>Monetary</th>\n",
              "      <th>MonetaryCluster</th>\n",
              "      <th>RFMScore</th>\n",
              "      <th>Membership</th>\n",
              "      <th>Status</th>\n",
              "    </tr>\n",
              "  </thead>\n",
              "  <tbody>\n",
              "    <tr>\n",
              "      <th>662</th>\n",
              "      <td>12415</td>\n",
              "      <td>23</td>\n",
              "      <td>2</td>\n",
              "      <td>714</td>\n",
              "      <td>1</td>\n",
              "      <td>124914.53</td>\n",
              "      <td>1</td>\n",
              "      <td>4</td>\n",
              "      <td>Silver</td>\n",
              "      <td>Regular</td>\n",
              "    </tr>\n",
              "    <tr>\n",
              "      <th>1521</th>\n",
              "      <td>14156</td>\n",
              "      <td>9</td>\n",
              "      <td>2</td>\n",
              "      <td>1400</td>\n",
              "      <td>1</td>\n",
              "      <td>117379.63</td>\n",
              "      <td>1</td>\n",
              "      <td>4</td>\n",
              "      <td>Silver</td>\n",
              "      <td>Regular</td>\n",
              "    </tr>\n",
              "    <tr>\n",
              "      <th>3164</th>\n",
              "      <td>17511</td>\n",
              "      <td>2</td>\n",
              "      <td>2</td>\n",
              "      <td>963</td>\n",
              "      <td>1</td>\n",
              "      <td>91062.38</td>\n",
              "      <td>1</td>\n",
              "      <td>4</td>\n",
              "      <td>Silver</td>\n",
              "      <td>Regular</td>\n",
              "    </tr>\n",
              "    <tr>\n",
              "      <th>0</th>\n",
              "      <td>12346</td>\n",
              "      <td>325</td>\n",
              "      <td>0</td>\n",
              "      <td>1</td>\n",
              "      <td>0</td>\n",
              "      <td>77183.60</td>\n",
              "      <td>1</td>\n",
              "      <td>1</td>\n",
              "      <td>Silver</td>\n",
              "      <td>Regular</td>\n",
              "    </tr>\n",
              "    <tr>\n",
              "      <th>1301</th>\n",
              "      <td>13694</td>\n",
              "      <td>3</td>\n",
              "      <td>2</td>\n",
              "      <td>568</td>\n",
              "      <td>1</td>\n",
              "      <td>65039.62</td>\n",
              "      <td>1</td>\n",
              "      <td>4</td>\n",
              "      <td>Silver</td>\n",
              "      <td>Regular</td>\n",
              "    </tr>\n",
              "  </tbody>\n",
              "</table>\n",
              "</div>"
            ],
            "text/plain": [
              "      CustomerID  Recency  RecencyCluster  ...  RFMScore  Membership   Status\n",
              "662        12415       23               2  ...         4      Silver  Regular\n",
              "1521       14156        9               2  ...         4      Silver  Regular\n",
              "3164       17511        2               2  ...         4      Silver  Regular\n",
              "0          12346      325               0  ...         1      Silver  Regular\n",
              "1301       13694        3               2  ...         4      Silver  Regular\n",
              "\n",
              "[5 rows x 10 columns]"
            ]
          },
          "metadata": {
            "tags": []
          },
          "execution_count": 305
        }
      ]
    },
    {
      "cell_type": "code",
      "metadata": {
        "id": "dw88iucZK5rz",
        "outputId": "3b48862a-6487-426f-8351-1099b87852bb",
        "colab": {
          "base_uri": "https://localhost:8080/",
          "height": 34
        }
      },
      "source": [
        "reg_cust['CustomerID'].count()"
      ],
      "execution_count": 306,
      "outputs": [
        {
          "output_type": "execute_result",
          "data": {
            "text/plain": [
              "1686"
            ]
          },
          "metadata": {
            "tags": []
          },
          "execution_count": 306
        }
      ]
    },
    {
      "cell_type": "code",
      "metadata": {
        "id": "-O4v1G2RcfdZ",
        "outputId": "8bb847ce-d699-45d3-8df6-c76a6be3d004",
        "colab": {
          "base_uri": "https://localhost:8080/",
          "height": 314
        }
      },
      "source": [
        "reg_cust.head(5).plot.bar(x='CustomerID', y='Monetary', rot=0)\n",
        "plt.title('Top 5 Regular Customer', size=15)"
      ],
      "execution_count": 307,
      "outputs": [
        {
          "output_type": "execute_result",
          "data": {
            "text/plain": [
              "Text(0.5, 1.0, 'Top 5 Regular Customer')"
            ]
          },
          "metadata": {
            "tags": []
          },
          "execution_count": 307
        },
        {
          "output_type": "display_data",
          "data": {
            "image/png": "[encoded data removed]",
            "text/plain": [
              "<Figure size 432x288 with 1 Axes>"
            ]
          },
          "metadata": {
            "tags": [],
            "needs_background": "light"
          }
        }
      ]
    },
    {
      "cell_type": "code",
      "metadata": {
        "id": "7EMphIUp0X3O",
        "outputId": "bb871ec5-1488-4823-8b97-201b8b2abab0",
        "colab": {
          "base_uri": "https://localhost:8080/",
          "height": 314
        }
      },
      "source": [
        "reg_cust.head(5).plot.bar(x='Membership', y='Monetary', rot=0)\n",
        "plt.title('Top 5 Regular Customer', size=15)"
      ],
      "execution_count": 308,
      "outputs": [
        {
          "output_type": "execute_result",
          "data": {
            "text/plain": [
              "Text(0.5, 1.0, 'Top 5 Regular Customer')"
            ]
          },
          "metadata": {
            "tags": []
          },
          "execution_count": 308
        },
        {
          "output_type": "display_data",
          "data": {
            "image/png": "[encoded data removed]",
            "text/plain": [
              "<Figure size 432x288 with 1 Axes>"
            ]
          },
          "metadata": {
            "tags": [],
            "needs_background": "light"
          }
        }
      ]
    },
    {
      "cell_type": "code",
      "metadata": {
        "id": "k0HkX2XGK_Yv",
        "outputId": "b2ed11ff-cd0e-4eb1-8e48-f2463c22c470",
        "colab": {
          "base_uri": "https://localhost:8080/",
          "height": 34
        }
      },
      "source": [
        "pip install squarify"
      ],
      "execution_count": 309,
      "outputs": [
        {
          "output_type": "stream",
          "text": [
            "Requirement already satisfied: squarify in /usr/local/lib/python3.6/dist-packages (0.4.3)\n"
          ],
          "name": "stdout"
        }
      ]
    },
    {
      "cell_type": "code",
      "metadata": {
        "id": "gdzRgo8cGrRP"
      },
      "source": [
        "color_list = ['#0f7216', '#b2790c', '#ffe9a3',\n",
        "              '#f9d4d4', '#d35158', '#ea3033']"
      ],
      "execution_count": 310,
      "outputs": []
    },
    {
      "cell_type": "code",
      "metadata": {
        "id": "MeXCsbUlIoti",
        "outputId": "199a3e2c-7b8d-49bc-d419-0e7dd1ea89d0",
        "colab": {
          "base_uri": "https://localhost:8080/",
          "height": 491
        }
      },
      "source": [
        "#Create our RFM Segment plot and resize it.\n",
        "import squarify\n",
        "fig = plt.gcf()\n",
        "ax = fig.add_subplot()\n",
        "fig.set_size_inches(10, 8)\n",
        "squarify.plot(sizes=[core_cust['CustomerID'].count(),\n",
        "                     reg_cust['CustomerID'].count(),\n",
        "                     loyal_cust['CustomerID'].count(),\n",
        "                     rookies_cust['CustomerID'].count(),\n",
        "                     slip_cust['CustomerID'].count(),\n",
        "                     whales_cust['CustomerID'].count()], \n",
        "              label=['Core',\n",
        "                     'Regular',\n",
        "                     'Loyal',\n",
        "                     'Rookies',\n",
        "                     'Slipping', \n",
        "                     'Whales'], alpha=0.8, color=color_list)\n",
        "plt.title(\"RFM Segments\",fontsize=18,fontweight=\"bold\")\n",
        "plt.axis('off')\n",
        "plt.show()"
      ],
      "execution_count": 311,
      "outputs": [
        {
          "output_type": "display_data",
          "data": {
            "image/png": "[encoded data removed]",
            "text/plain": [
              "<Figure size 720x576 with 1 Axes>"
            ]
          },
          "metadata": {
            "tags": [],
            "needs_background": "light"
          }
        }
      ]
    },
    {
      "cell_type": "code",
      "metadata": {
        "id": "RtisXfZaKS70"
      },
      "source": [
        ""
      ],
      "execution_count": 311,
      "outputs": []
    }
  ]
}